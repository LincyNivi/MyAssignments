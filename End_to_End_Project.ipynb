{
  "cells": [
    {
      "cell_type": "markdown",
      "metadata": {
        "id": "view-in-github",
        "colab_type": "text"
      },
      "source": [
        "<a href=\"https://colab.research.google.com/github/LincyNivi/MyAssignments/blob/main/End_to_End_Project.ipynb\" target=\"_parent\"><img src=\"https://colab.research.google.com/assets/colab-badge.svg\" alt=\"Open In Colab\"/></a>"
      ]
    },
    {
      "cell_type": "markdown",
      "metadata": {
        "id": "Qd2jZBPdC9Wb"
      },
      "source": [
        "1. Import all the necessary libraries\n",
        "2. Read the dataset ( csv , excel ) using pandas : read_xlsx\n",
        "3. Basic analysis of the dataset - head, info, describe,\n",
        "4. EDA - 1 : Missing value treatment , Categorical variable treatment , Outlier treatment , class imbalance treatment, any extra preprocessing step\n",
        "5. EDA - 2 : Analysis on numerical columns\n",
        "6. EDA - 3 : Analysis on categorical variables\n",
        "7. Any required graphs or charts\n",
        "8. X, y split\n",
        "9. Train Test Split for the model\n",
        "10. FEATURE SCALING\n",
        "11. Train the basic model and get model metrics\n",
        "12. Feature selection to get best variables for the model\n",
        "13. Hyper parameter tuning to best optimal HP\n",
        "14. Train the best model with best HP and variables that we got in step 11 and 12 to build our final model\n",
        "15. Calculate the model metrics for this best model."
      ]
    },
    {
      "cell_type": "markdown",
      "metadata": {
        "id": "5MqXoJoeC9Wc"
      },
      "source": [
        "<a class=\"anchor\" id=\"0\"></a>\n",
        "# Classification Project\n",
        "\n",
        "\n",
        "Hello friends,\n",
        "\n",
        "\n",
        "Random Forest is a supervised machine learning algorithm which is based on ensemble learning. In this kernel, I build two Random Forest Classifier models to predict whether a person makes over 50K a year, one with 10 decision-trees and another one with 100 decision-trees. The expected accuracy increases with number of decision-trees in the model. I have demonstrated the **feature selection process** using the Random Forest model to find only the important features, rebuild the model using these features and see its effect on accuracy. I have used the **Income classification data set** for this project."
      ]
    },
    {
      "cell_type": "markdown",
      "metadata": {
        "id": "X-2RxgzZC9Wd"
      },
      "source": [
        "## 1. The problem statement <a class=\"anchor\" id=\"1\"></a>\n",
        "\n",
        "[Back to Table of Contents](#0.1)\n",
        "\n",
        "\n",
        "In this kernel, I try to make predictions where the prediction task is to determine whether a person makes over 50K a year. I implement Random Forest Classification with Python and Scikit-Learn. So, to answer the question, I build a Random Forest classifier to predict whether a person makes over 50K a year.\n",
        "\n",
        "I have used the **Income classification data set** for this project.\n"
      ]
    },
    {
      "cell_type": "markdown",
      "metadata": {
        "id": "hOlDY4HfC9Wd"
      },
      "source": [
        "## 2. Import libraries <a class=\"anchor\" id=\"2\"></a>\n",
        "\n",
        "[Back to Table of Contents](#0.1)\n",
        "\n"
      ]
    },
    {
      "cell_type": "code",
      "execution_count": null,
      "metadata": {
        "id": "RKJR5SnvC9Wd"
      },
      "outputs": [],
      "source": [
        "import numpy as np # linear algebra\n",
        "import pandas as pd # data processing, CSV file I/O (e.g. pd.read_csv)\n",
        "import seaborn as sns\n",
        "import matplotlib.pyplot as plt\n",
        "%matplotlib inline\n",
        "sns.set(style=\"whitegrid\")\n",
        "import warnings\n",
        "warnings.filterwarnings('ignore')"
      ]
    },
    {
      "cell_type": "markdown",
      "metadata": {
        "id": "sWZeb0kXC9Wd"
      },
      "source": [
        "## 3. Import dataset <a class=\"anchor\" id=\"3\"></a>\n",
        "\n",
        "[Back to Table of Contents](#0.1)\n"
      ]
    },
    {
      "cell_type": "code",
      "execution_count": null,
      "metadata": {
        "id": "meij01mXC9We",
        "outputId": "a9c0eb72-2ba6-45b5-83b5-00947c74b351"
      },
      "outputs": [
        {
          "data": {
            "text/html": [
              "<div>\n",
              "<style scoped>\n",
              "    .dataframe tbody tr th:only-of-type {\n",
              "        vertical-align: middle;\n",
              "    }\n",
              "\n",
              "    .dataframe tbody tr th {\n",
              "        vertical-align: top;\n",
              "    }\n",
              "\n",
              "    .dataframe thead th {\n",
              "        text-align: right;\n",
              "    }\n",
              "</style>\n",
              "<table border=\"1\" class=\"dataframe\">\n",
              "  <thead>\n",
              "    <tr style=\"text-align: right;\">\n",
              "      <th></th>\n",
              "      <th>age</th>\n",
              "      <th>workclass</th>\n",
              "      <th>fnlwgt</th>\n",
              "      <th>education</th>\n",
              "      <th>education-num</th>\n",
              "      <th>marital-status</th>\n",
              "      <th>occupation</th>\n",
              "      <th>relationship</th>\n",
              "      <th>race</th>\n",
              "      <th>sex</th>\n",
              "      <th>capital-gain</th>\n",
              "      <th>capital-loss</th>\n",
              "      <th>hours-per-week</th>\n",
              "      <th>native-country</th>\n",
              "      <th>income</th>\n",
              "    </tr>\n",
              "  </thead>\n",
              "  <tbody>\n",
              "    <tr>\n",
              "      <th>0</th>\n",
              "      <td>39</td>\n",
              "      <td>State-gov</td>\n",
              "      <td>77516</td>\n",
              "      <td>Bachelors</td>\n",
              "      <td>13</td>\n",
              "      <td>Never-married</td>\n",
              "      <td>Adm-clerical</td>\n",
              "      <td>Not-in-family</td>\n",
              "      <td>White</td>\n",
              "      <td>Male</td>\n",
              "      <td>2174</td>\n",
              "      <td>0</td>\n",
              "      <td>40</td>\n",
              "      <td>United-States</td>\n",
              "      <td>&lt;=50K</td>\n",
              "    </tr>\n",
              "    <tr>\n",
              "      <th>1</th>\n",
              "      <td>50</td>\n",
              "      <td>Self-emp-not-inc</td>\n",
              "      <td>83311</td>\n",
              "      <td>Bachelors</td>\n",
              "      <td>13</td>\n",
              "      <td>Married-civ-spouse</td>\n",
              "      <td>Exec-managerial</td>\n",
              "      <td>Husband</td>\n",
              "      <td>White</td>\n",
              "      <td>Male</td>\n",
              "      <td>0</td>\n",
              "      <td>0</td>\n",
              "      <td>13</td>\n",
              "      <td>United-States</td>\n",
              "      <td>&lt;=50K</td>\n",
              "    </tr>\n",
              "    <tr>\n",
              "      <th>2</th>\n",
              "      <td>38</td>\n",
              "      <td>Private</td>\n",
              "      <td>215646</td>\n",
              "      <td>HS-grad</td>\n",
              "      <td>9</td>\n",
              "      <td>Divorced</td>\n",
              "      <td>Handlers-cleaners</td>\n",
              "      <td>Not-in-family</td>\n",
              "      <td>White</td>\n",
              "      <td>Male</td>\n",
              "      <td>0</td>\n",
              "      <td>0</td>\n",
              "      <td>40</td>\n",
              "      <td>United-States</td>\n",
              "      <td>&lt;=50K</td>\n",
              "    </tr>\n",
              "    <tr>\n",
              "      <th>3</th>\n",
              "      <td>53</td>\n",
              "      <td>Private</td>\n",
              "      <td>234721</td>\n",
              "      <td>11th</td>\n",
              "      <td>7</td>\n",
              "      <td>Married-civ-spouse</td>\n",
              "      <td>Handlers-cleaners</td>\n",
              "      <td>Husband</td>\n",
              "      <td>Black</td>\n",
              "      <td>Male</td>\n",
              "      <td>0</td>\n",
              "      <td>0</td>\n",
              "      <td>40</td>\n",
              "      <td>United-States</td>\n",
              "      <td>&lt;=50K</td>\n",
              "    </tr>\n",
              "    <tr>\n",
              "      <th>4</th>\n",
              "      <td>28</td>\n",
              "      <td>Private</td>\n",
              "      <td>338409</td>\n",
              "      <td>Bachelors</td>\n",
              "      <td>13</td>\n",
              "      <td>Married-civ-spouse</td>\n",
              "      <td>Prof-specialty</td>\n",
              "      <td>Wife</td>\n",
              "      <td>Black</td>\n",
              "      <td>Female</td>\n",
              "      <td>0</td>\n",
              "      <td>0</td>\n",
              "      <td>40</td>\n",
              "      <td>Cuba</td>\n",
              "      <td>&lt;=50K</td>\n",
              "    </tr>\n",
              "  </tbody>\n",
              "</table>\n",
              "</div>"
            ],
            "text/plain": [
              "   age          workclass   fnlwgt   education   education-num  \\\n",
              "0   39          State-gov    77516   Bachelors              13   \n",
              "1   50   Self-emp-not-inc    83311   Bachelors              13   \n",
              "2   38            Private   215646     HS-grad               9   \n",
              "3   53            Private   234721        11th               7   \n",
              "4   28            Private   338409   Bachelors              13   \n",
              "\n",
              "        marital-status          occupation    relationship    race      sex  \\\n",
              "0        Never-married        Adm-clerical   Not-in-family   White     Male   \n",
              "1   Married-civ-spouse     Exec-managerial         Husband   White     Male   \n",
              "2             Divorced   Handlers-cleaners   Not-in-family   White     Male   \n",
              "3   Married-civ-spouse   Handlers-cleaners         Husband   Black     Male   \n",
              "4   Married-civ-spouse      Prof-specialty            Wife   Black   Female   \n",
              "\n",
              "    capital-gain   capital-loss   hours-per-week  native-country  income  \n",
              "0           2174              0               40   United-States   <=50K  \n",
              "1              0              0               13   United-States   <=50K  \n",
              "2              0              0               40   United-States   <=50K  \n",
              "3              0              0               40   United-States   <=50K  \n",
              "4              0              0               40            Cuba   <=50K  "
            ]
          },
          "execution_count": 4,
          "metadata": {},
          "output_type": "execute_result"
        }
      ],
      "source": [
        "data = 'income_evaluation.csv'\n",
        "df = pd.read_csv('income_evaluation.csv')\n",
        "df.head()"
      ]
    },
    {
      "cell_type": "markdown",
      "metadata": {
        "id": "ftVqbCxdC9We"
      },
      "source": [
        "## 4. Exploratory data analysis <a class=\"anchor\" id=\"4\"></a>\n",
        "\n",
        "[Back to Table of Contents](#0.1)\n",
        "\n",
        "\n",
        "Now, I will explore the data to gain insights about the data."
      ]
    },
    {
      "cell_type": "markdown",
      "metadata": {
        "id": "7ODMq2h1C9We"
      },
      "source": [
        "### 4.1  View dimensions of dataset <a class=\"anchor\" id=\"4.1\"></a>"
      ]
    },
    {
      "cell_type": "code",
      "execution_count": null,
      "metadata": {
        "id": "o-DN5FcQC9Wf",
        "outputId": "372c223f-27e3-4c23-db49-d3c7e226a9d7"
      },
      "outputs": [
        {
          "name": "stdout",
          "output_type": "stream",
          "text": [
            "The shape of the dataset :  (32561, 15)\n"
          ]
        }
      ],
      "source": [
        "# print the shape , (rows ,columns)\n",
        "print('The shape of the dataset : ', df.shape)"
      ]
    },
    {
      "cell_type": "markdown",
      "metadata": {
        "id": "lMew5Md3C9Wf"
      },
      "source": [
        "We can see that there are 32561 instances and 15 attributes in the data set."
      ]
    },
    {
      "cell_type": "markdown",
      "metadata": {
        "id": "ANDMJkRFC9Wf"
      },
      "source": [
        "### 4.2 Preview the dataset <a class=\"anchor\" id=\"4.2\"></a>"
      ]
    },
    {
      "cell_type": "code",
      "execution_count": null,
      "metadata": {
        "scrolled": false,
        "id": "WMe08eR-C9Wf",
        "outputId": "c9b56c3d-7c58-4440-ae22-d9e173acd952"
      },
      "outputs": [
        {
          "data": {
            "text/html": [
              "<div>\n",
              "<style scoped>\n",
              "    .dataframe tbody tr th:only-of-type {\n",
              "        vertical-align: middle;\n",
              "    }\n",
              "\n",
              "    .dataframe tbody tr th {\n",
              "        vertical-align: top;\n",
              "    }\n",
              "\n",
              "    .dataframe thead th {\n",
              "        text-align: right;\n",
              "    }\n",
              "</style>\n",
              "<table border=\"1\" class=\"dataframe\">\n",
              "  <thead>\n",
              "    <tr style=\"text-align: right;\">\n",
              "      <th></th>\n",
              "      <th>age</th>\n",
              "      <th>workclass</th>\n",
              "      <th>fnlwgt</th>\n",
              "      <th>education</th>\n",
              "      <th>education-num</th>\n",
              "      <th>marital-status</th>\n",
              "      <th>occupation</th>\n",
              "      <th>relationship</th>\n",
              "      <th>race</th>\n",
              "      <th>sex</th>\n",
              "      <th>capital-gain</th>\n",
              "      <th>capital-loss</th>\n",
              "      <th>hours-per-week</th>\n",
              "      <th>native-country</th>\n",
              "      <th>income</th>\n",
              "    </tr>\n",
              "  </thead>\n",
              "  <tbody>\n",
              "    <tr>\n",
              "      <th>0</th>\n",
              "      <td>39</td>\n",
              "      <td>State-gov</td>\n",
              "      <td>77516</td>\n",
              "      <td>Bachelors</td>\n",
              "      <td>13</td>\n",
              "      <td>Never-married</td>\n",
              "      <td>Adm-clerical</td>\n",
              "      <td>Not-in-family</td>\n",
              "      <td>White</td>\n",
              "      <td>Male</td>\n",
              "      <td>2174</td>\n",
              "      <td>0</td>\n",
              "      <td>40</td>\n",
              "      <td>United-States</td>\n",
              "      <td>&lt;=50K</td>\n",
              "    </tr>\n",
              "    <tr>\n",
              "      <th>1</th>\n",
              "      <td>50</td>\n",
              "      <td>Self-emp-not-inc</td>\n",
              "      <td>83311</td>\n",
              "      <td>Bachelors</td>\n",
              "      <td>13</td>\n",
              "      <td>Married-civ-spouse</td>\n",
              "      <td>Exec-managerial</td>\n",
              "      <td>Husband</td>\n",
              "      <td>White</td>\n",
              "      <td>Male</td>\n",
              "      <td>0</td>\n",
              "      <td>0</td>\n",
              "      <td>13</td>\n",
              "      <td>United-States</td>\n",
              "      <td>&lt;=50K</td>\n",
              "    </tr>\n",
              "    <tr>\n",
              "      <th>2</th>\n",
              "      <td>38</td>\n",
              "      <td>Private</td>\n",
              "      <td>215646</td>\n",
              "      <td>HS-grad</td>\n",
              "      <td>9</td>\n",
              "      <td>Divorced</td>\n",
              "      <td>Handlers-cleaners</td>\n",
              "      <td>Not-in-family</td>\n",
              "      <td>White</td>\n",
              "      <td>Male</td>\n",
              "      <td>0</td>\n",
              "      <td>0</td>\n",
              "      <td>40</td>\n",
              "      <td>United-States</td>\n",
              "      <td>&lt;=50K</td>\n",
              "    </tr>\n",
              "    <tr>\n",
              "      <th>3</th>\n",
              "      <td>53</td>\n",
              "      <td>Private</td>\n",
              "      <td>234721</td>\n",
              "      <td>11th</td>\n",
              "      <td>7</td>\n",
              "      <td>Married-civ-spouse</td>\n",
              "      <td>Handlers-cleaners</td>\n",
              "      <td>Husband</td>\n",
              "      <td>Black</td>\n",
              "      <td>Male</td>\n",
              "      <td>0</td>\n",
              "      <td>0</td>\n",
              "      <td>40</td>\n",
              "      <td>United-States</td>\n",
              "      <td>&lt;=50K</td>\n",
              "    </tr>\n",
              "    <tr>\n",
              "      <th>4</th>\n",
              "      <td>28</td>\n",
              "      <td>Private</td>\n",
              "      <td>338409</td>\n",
              "      <td>Bachelors</td>\n",
              "      <td>13</td>\n",
              "      <td>Married-civ-spouse</td>\n",
              "      <td>Prof-specialty</td>\n",
              "      <td>Wife</td>\n",
              "      <td>Black</td>\n",
              "      <td>Female</td>\n",
              "      <td>0</td>\n",
              "      <td>0</td>\n",
              "      <td>40</td>\n",
              "      <td>Cuba</td>\n",
              "      <td>&lt;=50K</td>\n",
              "    </tr>\n",
              "  </tbody>\n",
              "</table>\n",
              "</div>"
            ],
            "text/plain": [
              "   age          workclass   fnlwgt   education   education-num  \\\n",
              "0   39          State-gov    77516   Bachelors              13   \n",
              "1   50   Self-emp-not-inc    83311   Bachelors              13   \n",
              "2   38            Private   215646     HS-grad               9   \n",
              "3   53            Private   234721        11th               7   \n",
              "4   28            Private   338409   Bachelors              13   \n",
              "\n",
              "        marital-status          occupation    relationship    race      sex  \\\n",
              "0        Never-married        Adm-clerical   Not-in-family   White     Male   \n",
              "1   Married-civ-spouse     Exec-managerial         Husband   White     Male   \n",
              "2             Divorced   Handlers-cleaners   Not-in-family   White     Male   \n",
              "3   Married-civ-spouse   Handlers-cleaners         Husband   Black     Male   \n",
              "4   Married-civ-spouse      Prof-specialty            Wife   Black   Female   \n",
              "\n",
              "    capital-gain   capital-loss   hours-per-week  native-country  income  \n",
              "0           2174              0               40   United-States   <=50K  \n",
              "1              0              0               13   United-States   <=50K  \n",
              "2              0              0               40   United-States   <=50K  \n",
              "3              0              0               40   United-States   <=50K  \n",
              "4              0              0               40            Cuba   <=50K  "
            ]
          },
          "execution_count": 4,
          "metadata": {},
          "output_type": "execute_result"
        }
      ],
      "source": [
        "df.head()"
      ]
    },
    {
      "cell_type": "markdown",
      "metadata": {
        "id": "OmQhRlPTC9Wg"
      },
      "source": [
        "### 4.3 Rename column names <a class=\"anchor\" id=\"4.3\"></a>\n",
        "\n",
        "We can see that the dataset does not have proper column names. The column names contain underscore. We should give proper names to the columns. I will do it as follows:-"
      ]
    },
    {
      "cell_type": "code",
      "execution_count": null,
      "metadata": {
        "id": "6GEZ1IjzC9Wg",
        "outputId": "e088b5a9-379c-457d-a348-fc64847c8048"
      },
      "outputs": [
        {
          "data": {
            "text/plain": [
              "Index(['age', 'workclass', 'fnlwgt', 'education', 'education_num',\n",
              "       'marital_status', 'occupation', 'relationship', 'race', 'sex',\n",
              "       'capital_gain', 'capital_loss', 'hours_per_week', 'native_country',\n",
              "       'income'],\n",
              "      dtype='object')"
            ]
          },
          "execution_count": 6,
          "metadata": {},
          "output_type": "execute_result"
        }
      ],
      "source": [
        "col_names = ['age', 'workclass', 'fnlwgt', 'education', 'education_num', 'marital_status', 'occupation', 'relationship',\n",
        "             'race', 'sex', 'capital_gain', 'capital_loss', 'hours_per_week', 'native_country', 'income']\n",
        "\n",
        "df.columns = col_names  ## changing my column names as per requirement\n",
        "\n",
        "df.columns  ## displaying the column names"
      ]
    },
    {
      "cell_type": "code",
      "execution_count": null,
      "metadata": {
        "id": "uQjQcODxC9Wg",
        "outputId": "5ad4f324-af62-4f79-fb12-394d9cb45c2b"
      },
      "outputs": [
        {
          "data": {
            "text/html": [
              "<div>\n",
              "<style scoped>\n",
              "    .dataframe tbody tr th:only-of-type {\n",
              "        vertical-align: middle;\n",
              "    }\n",
              "\n",
              "    .dataframe tbody tr th {\n",
              "        vertical-align: top;\n",
              "    }\n",
              "\n",
              "    .dataframe thead th {\n",
              "        text-align: right;\n",
              "    }\n",
              "</style>\n",
              "<table border=\"1\" class=\"dataframe\">\n",
              "  <thead>\n",
              "    <tr style=\"text-align: right;\">\n",
              "      <th></th>\n",
              "      <th>age</th>\n",
              "      <th>education</th>\n",
              "      <th>occupation</th>\n",
              "      <th>sex</th>\n",
              "      <th>hours_per_week</th>\n",
              "      <th>income</th>\n",
              "    </tr>\n",
              "  </thead>\n",
              "  <tbody>\n",
              "    <tr>\n",
              "      <th>0</th>\n",
              "      <td>39</td>\n",
              "      <td>Bachelors</td>\n",
              "      <td>Adm-clerical</td>\n",
              "      <td>Male</td>\n",
              "      <td>40</td>\n",
              "      <td>&lt;=50K</td>\n",
              "    </tr>\n",
              "    <tr>\n",
              "      <th>1</th>\n",
              "      <td>50</td>\n",
              "      <td>Bachelors</td>\n",
              "      <td>Exec-managerial</td>\n",
              "      <td>Male</td>\n",
              "      <td>13</td>\n",
              "      <td>&lt;=50K</td>\n",
              "    </tr>\n",
              "    <tr>\n",
              "      <th>2</th>\n",
              "      <td>38</td>\n",
              "      <td>HS-grad</td>\n",
              "      <td>Handlers-cleaners</td>\n",
              "      <td>Male</td>\n",
              "      <td>40</td>\n",
              "      <td>&lt;=50K</td>\n",
              "    </tr>\n",
              "    <tr>\n",
              "      <th>3</th>\n",
              "      <td>53</td>\n",
              "      <td>11th</td>\n",
              "      <td>Handlers-cleaners</td>\n",
              "      <td>Male</td>\n",
              "      <td>40</td>\n",
              "      <td>&lt;=50K</td>\n",
              "    </tr>\n",
              "    <tr>\n",
              "      <th>4</th>\n",
              "      <td>28</td>\n",
              "      <td>Bachelors</td>\n",
              "      <td>Prof-specialty</td>\n",
              "      <td>Female</td>\n",
              "      <td>40</td>\n",
              "      <td>&lt;=50K</td>\n",
              "    </tr>\n",
              "  </tbody>\n",
              "</table>\n",
              "</div>"
            ],
            "text/plain": [
              "   age   education          occupation      sex  hours_per_week  income\n",
              "0   39   Bachelors        Adm-clerical     Male              40   <=50K\n",
              "1   50   Bachelors     Exec-managerial     Male              13   <=50K\n",
              "2   38     HS-grad   Handlers-cleaners     Male              40   <=50K\n",
              "3   53        11th   Handlers-cleaners     Male              40   <=50K\n",
              "4   28   Bachelors      Prof-specialty   Female              40   <=50K"
            ]
          },
          "execution_count": 7,
          "metadata": {},
          "output_type": "execute_result"
        }
      ],
      "source": [
        "model_columns = ['age', 'education', 'occupation','sex','hours_per_week','income']  ## selecting few cols\n",
        "df = df[model_columns]\n",
        "df.head()"
      ]
    },
    {
      "cell_type": "code",
      "execution_count": null,
      "metadata": {
        "id": "x-60-wK1C9Wg",
        "outputId": "4f3a7e73-4f08-4f08-e2db-b836c005282e"
      },
      "outputs": [
        {
          "data": {
            "text/plain": [
              "(32561, 6)"
            ]
          },
          "execution_count": 7,
          "metadata": {},
          "output_type": "execute_result"
        }
      ],
      "source": [
        "df.shape"
      ]
    },
    {
      "cell_type": "code",
      "execution_count": null,
      "metadata": {
        "id": "nlG1fNxTC9Wg",
        "outputId": "721387a9-8731-430f-d89c-b4f996ddb6f6"
      },
      "outputs": [
        {
          "data": {
            "text/plain": [
              " <=50K    24720\n",
              " >50K      7841\n",
              "Name: income, dtype: int64"
            ]
          },
          "execution_count": 8,
          "metadata": {},
          "output_type": "execute_result"
        }
      ],
      "source": [
        "df.income.value_counts()"
      ]
    },
    {
      "cell_type": "code",
      "execution_count": null,
      "metadata": {
        "id": "-D-qrHfvC9Wh"
      },
      "outputs": [],
      "source": [
        "# Changing the income to 0 and 1 (Hidden Input/Output)  ### categorical encoding\n",
        "df[\"income\"] = df[\"income\"].map({\" <=50K\":0, \" >50K\":1})"
      ]
    },
    {
      "cell_type": "code",
      "execution_count": null,
      "metadata": {
        "id": "ICgRkcMdC9Wh",
        "outputId": "61ee6318-9f32-451a-a868-c24e4350756a"
      },
      "outputs": [
        {
          "data": {
            "text/plain": [
              "0    24720\n",
              "1     7841\n",
              "Name: income, dtype: int64"
            ]
          },
          "execution_count": 10,
          "metadata": {},
          "output_type": "execute_result"
        }
      ],
      "source": [
        "df.income.value_counts()"
      ]
    },
    {
      "cell_type": "code",
      "execution_count": null,
      "metadata": {
        "id": "XnGqmAzZC9Wh",
        "outputId": "e5a6db90-a378-4dd5-d788-68590179e675"
      },
      "outputs": [
        {
          "data": {
            "text/html": [
              "<div>\n",
              "<style scoped>\n",
              "    .dataframe tbody tr th:only-of-type {\n",
              "        vertical-align: middle;\n",
              "    }\n",
              "\n",
              "    .dataframe tbody tr th {\n",
              "        vertical-align: top;\n",
              "    }\n",
              "\n",
              "    .dataframe thead th {\n",
              "        text-align: right;\n",
              "    }\n",
              "</style>\n",
              "<table border=\"1\" class=\"dataframe\">\n",
              "  <thead>\n",
              "    <tr style=\"text-align: right;\">\n",
              "      <th></th>\n",
              "      <th>age</th>\n",
              "      <th>education</th>\n",
              "      <th>occupation</th>\n",
              "      <th>sex</th>\n",
              "      <th>hours_per_week</th>\n",
              "      <th>income</th>\n",
              "    </tr>\n",
              "  </thead>\n",
              "  <tbody>\n",
              "    <tr>\n",
              "      <th>32556</th>\n",
              "      <td>27</td>\n",
              "      <td>Assoc-acdm</td>\n",
              "      <td>Tech-support</td>\n",
              "      <td>Female</td>\n",
              "      <td>38</td>\n",
              "      <td>0</td>\n",
              "    </tr>\n",
              "    <tr>\n",
              "      <th>32557</th>\n",
              "      <td>40</td>\n",
              "      <td>HS-grad</td>\n",
              "      <td>Machine-op-inspct</td>\n",
              "      <td>Male</td>\n",
              "      <td>40</td>\n",
              "      <td>1</td>\n",
              "    </tr>\n",
              "    <tr>\n",
              "      <th>32558</th>\n",
              "      <td>58</td>\n",
              "      <td>HS-grad</td>\n",
              "      <td>Adm-clerical</td>\n",
              "      <td>Female</td>\n",
              "      <td>40</td>\n",
              "      <td>0</td>\n",
              "    </tr>\n",
              "    <tr>\n",
              "      <th>32559</th>\n",
              "      <td>22</td>\n",
              "      <td>HS-grad</td>\n",
              "      <td>Adm-clerical</td>\n",
              "      <td>Male</td>\n",
              "      <td>20</td>\n",
              "      <td>0</td>\n",
              "    </tr>\n",
              "    <tr>\n",
              "      <th>32560</th>\n",
              "      <td>52</td>\n",
              "      <td>HS-grad</td>\n",
              "      <td>Exec-managerial</td>\n",
              "      <td>Female</td>\n",
              "      <td>40</td>\n",
              "      <td>1</td>\n",
              "    </tr>\n",
              "  </tbody>\n",
              "</table>\n",
              "</div>"
            ],
            "text/plain": [
              "       age    education          occupation      sex  hours_per_week  income\n",
              "32556   27   Assoc-acdm        Tech-support   Female              38       0\n",
              "32557   40      HS-grad   Machine-op-inspct     Male              40       1\n",
              "32558   58      HS-grad        Adm-clerical   Female              40       0\n",
              "32559   22      HS-grad        Adm-clerical     Male              20       0\n",
              "32560   52      HS-grad     Exec-managerial   Female              40       1"
            ]
          },
          "execution_count": 11,
          "metadata": {},
          "output_type": "execute_result"
        }
      ],
      "source": [
        "df.tail()  ### last 5 rows of the dataframe"
      ]
    },
    {
      "cell_type": "markdown",
      "metadata": {
        "id": "RLcDTwBHC9Wh"
      },
      "source": [
        "### 4.4 View summary of dataset <a class=\"anchor\" id=\"4.4\"></a>"
      ]
    },
    {
      "cell_type": "code",
      "execution_count": null,
      "metadata": {
        "id": "naI9Fa0YC9Wi",
        "outputId": "6dc0d4ff-3033-4492-d5d3-985c22640eda"
      },
      "outputs": [
        {
          "name": "stdout",
          "output_type": "stream",
          "text": [
            "<class 'pandas.core.frame.DataFrame'>\n",
            "RangeIndex: 32561 entries, 0 to 32560\n",
            "Data columns (total 6 columns):\n",
            " #   Column          Non-Null Count  Dtype \n",
            "---  ------          --------------  ----- \n",
            " 0   age             32561 non-null  int64 \n",
            " 1   education       32561 non-null  object\n",
            " 2   occupation      32561 non-null  object\n",
            " 3   sex             32561 non-null  object\n",
            " 4   hours_per_week  32561 non-null  int64 \n",
            " 5   income          32561 non-null  int64 \n",
            "dtypes: int64(3), object(3)\n",
            "memory usage: 1.5+ MB\n"
          ]
        }
      ],
      "source": [
        "df.info()"
      ]
    },
    {
      "cell_type": "markdown",
      "metadata": {
        "id": "IEUsW3t_C9Wi"
      },
      "source": [
        "## IF THERE ARE NULL VALUES IN THE DATASET :\n",
        "\n",
        "1. Numerical : Replace the null values with the mean or median or any default value.\n",
        "2. Categorical column : Generally replace the null values with the most occuring category of that column"
      ]
    },
    {
      "cell_type": "markdown",
      "metadata": {
        "id": "TYxNub8oC9Wi"
      },
      "source": [
        "#### Findings\n",
        "\n",
        "- We can see that the dataset contains 9 character variables and 6 numerical variables.\n",
        "\n",
        "- `income` is the target variable.\n",
        "\n",
        "- There are no missing values in the dataset. I will explore this later,"
      ]
    },
    {
      "cell_type": "markdown",
      "metadata": {
        "id": "GdHBfQA2C9Wi"
      },
      "source": [
        "### 4.5 Check the data types of columns <a class=\"anchor\" id=\"4.5\"></a>\n",
        "\n",
        "- The above `df.info()` command gives us the number of filled values along with the data types of columns.\n",
        "\n",
        "- If we simply want to check the data type of a particular column, we can use the following command."
      ]
    },
    {
      "cell_type": "code",
      "execution_count": null,
      "metadata": {
        "id": "TmIMxXXwC9Wi",
        "outputId": "50e359df-9f97-46e2-d79d-6405ffd246b6"
      },
      "outputs": [
        {
          "data": {
            "text/plain": [
              "age                int64\n",
              "education         object\n",
              "occupation        object\n",
              "sex               object\n",
              "hours_per_week     int64\n",
              "income             int64\n",
              "dtype: object"
            ]
          },
          "execution_count": 13,
          "metadata": {},
          "output_type": "execute_result"
        }
      ],
      "source": [
        "df.dtypes  ## check the data types of all the columns"
      ]
    },
    {
      "cell_type": "markdown",
      "metadata": {
        "id": "qfs2Rv1vC9Wi"
      },
      "source": [
        "### 4.6 View statistical properties of dataset <a class=\"anchor\" id=\"4.6\"></a>"
      ]
    },
    {
      "cell_type": "code",
      "execution_count": null,
      "metadata": {
        "id": "39D1-Zx_C9Wj",
        "outputId": "6d964498-79c2-440c-be73-d4047da9d545"
      },
      "outputs": [
        {
          "data": {
            "text/html": [
              "<div>\n",
              "<style scoped>\n",
              "    .dataframe tbody tr th:only-of-type {\n",
              "        vertical-align: middle;\n",
              "    }\n",
              "\n",
              "    .dataframe tbody tr th {\n",
              "        vertical-align: top;\n",
              "    }\n",
              "\n",
              "    .dataframe thead th {\n",
              "        text-align: right;\n",
              "    }\n",
              "</style>\n",
              "<table border=\"1\" class=\"dataframe\">\n",
              "  <thead>\n",
              "    <tr style=\"text-align: right;\">\n",
              "      <th></th>\n",
              "      <th>age</th>\n",
              "      <th>hours_per_week</th>\n",
              "      <th>income</th>\n",
              "    </tr>\n",
              "  </thead>\n",
              "  <tbody>\n",
              "    <tr>\n",
              "      <th>count</th>\n",
              "      <td>32561.000000</td>\n",
              "      <td>32561.000000</td>\n",
              "      <td>32561.000000</td>\n",
              "    </tr>\n",
              "    <tr>\n",
              "      <th>mean</th>\n",
              "      <td>38.581647</td>\n",
              "      <td>40.437456</td>\n",
              "      <td>0.240810</td>\n",
              "    </tr>\n",
              "    <tr>\n",
              "      <th>std</th>\n",
              "      <td>13.640433</td>\n",
              "      <td>12.347429</td>\n",
              "      <td>0.427581</td>\n",
              "    </tr>\n",
              "    <tr>\n",
              "      <th>min</th>\n",
              "      <td>17.000000</td>\n",
              "      <td>1.000000</td>\n",
              "      <td>0.000000</td>\n",
              "    </tr>\n",
              "    <tr>\n",
              "      <th>25%</th>\n",
              "      <td>28.000000</td>\n",
              "      <td>40.000000</td>\n",
              "      <td>0.000000</td>\n",
              "    </tr>\n",
              "    <tr>\n",
              "      <th>50%</th>\n",
              "      <td>37.000000</td>\n",
              "      <td>40.000000</td>\n",
              "      <td>0.000000</td>\n",
              "    </tr>\n",
              "    <tr>\n",
              "      <th>75%</th>\n",
              "      <td>48.000000</td>\n",
              "      <td>45.000000</td>\n",
              "      <td>0.000000</td>\n",
              "    </tr>\n",
              "    <tr>\n",
              "      <th>max</th>\n",
              "      <td>90.000000</td>\n",
              "      <td>99.000000</td>\n",
              "      <td>1.000000</td>\n",
              "    </tr>\n",
              "  </tbody>\n",
              "</table>\n",
              "</div>"
            ],
            "text/plain": [
              "                age  hours_per_week        income\n",
              "count  32561.000000    32561.000000  32561.000000\n",
              "mean      38.581647       40.437456      0.240810\n",
              "std       13.640433       12.347429      0.427581\n",
              "min       17.000000        1.000000      0.000000\n",
              "25%       28.000000       40.000000      0.000000\n",
              "50%       37.000000       40.000000      0.000000\n",
              "75%       48.000000       45.000000      0.000000\n",
              "max       90.000000       99.000000      1.000000"
            ]
          },
          "execution_count": 16,
          "metadata": {},
          "output_type": "execute_result"
        }
      ],
      "source": [
        "df.describe() ## numerical cols"
      ]
    },
    {
      "cell_type": "markdown",
      "metadata": {
        "id": "PSGKDd_iC9Wj"
      },
      "source": [
        "- The above `df.describe()` command presents statistical properties in vertical form.\n",
        "\n",
        "- If we want to view the statistical properties in horizontal form, we should run the following command."
      ]
    },
    {
      "cell_type": "code",
      "execution_count": null,
      "metadata": {
        "id": "LNWSJ_ueC9Wj",
        "outputId": "6c78795e-c406-48d1-a834-e2d88012bec4"
      },
      "outputs": [
        {
          "data": {
            "text/html": [
              "<div>\n",
              "<style scoped>\n",
              "    .dataframe tbody tr th:only-of-type {\n",
              "        vertical-align: middle;\n",
              "    }\n",
              "\n",
              "    .dataframe tbody tr th {\n",
              "        vertical-align: top;\n",
              "    }\n",
              "\n",
              "    .dataframe thead th {\n",
              "        text-align: right;\n",
              "    }\n",
              "</style>\n",
              "<table border=\"1\" class=\"dataframe\">\n",
              "  <thead>\n",
              "    <tr style=\"text-align: right;\">\n",
              "      <th></th>\n",
              "      <th>count</th>\n",
              "      <th>mean</th>\n",
              "      <th>std</th>\n",
              "      <th>min</th>\n",
              "      <th>25%</th>\n",
              "      <th>50%</th>\n",
              "      <th>75%</th>\n",
              "      <th>max</th>\n",
              "    </tr>\n",
              "  </thead>\n",
              "  <tbody>\n",
              "    <tr>\n",
              "      <th>age</th>\n",
              "      <td>32561.0</td>\n",
              "      <td>38.581647</td>\n",
              "      <td>13.640433</td>\n",
              "      <td>17.0</td>\n",
              "      <td>28.0</td>\n",
              "      <td>37.0</td>\n",
              "      <td>48.0</td>\n",
              "      <td>90.0</td>\n",
              "    </tr>\n",
              "    <tr>\n",
              "      <th>hours_per_week</th>\n",
              "      <td>32561.0</td>\n",
              "      <td>40.437456</td>\n",
              "      <td>12.347429</td>\n",
              "      <td>1.0</td>\n",
              "      <td>40.0</td>\n",
              "      <td>40.0</td>\n",
              "      <td>45.0</td>\n",
              "      <td>99.0</td>\n",
              "    </tr>\n",
              "    <tr>\n",
              "      <th>income</th>\n",
              "      <td>32561.0</td>\n",
              "      <td>0.240810</td>\n",
              "      <td>0.427581</td>\n",
              "      <td>0.0</td>\n",
              "      <td>0.0</td>\n",
              "      <td>0.0</td>\n",
              "      <td>0.0</td>\n",
              "      <td>1.0</td>\n",
              "    </tr>\n",
              "  </tbody>\n",
              "</table>\n",
              "</div>"
            ],
            "text/plain": [
              "                  count       mean        std   min   25%   50%   75%   max\n",
              "age             32561.0  38.581647  13.640433  17.0  28.0  37.0  48.0  90.0\n",
              "hours_per_week  32561.0  40.437456  12.347429   1.0  40.0  40.0  45.0  99.0\n",
              "income          32561.0   0.240810   0.427581   0.0   0.0   0.0   0.0   1.0"
            ]
          },
          "execution_count": 18,
          "metadata": {},
          "output_type": "execute_result"
        }
      ],
      "source": [
        "df.describe().T  ### transpose of a matrix"
      ]
    },
    {
      "cell_type": "markdown",
      "metadata": {
        "id": "03lTP9hDC9Wj"
      },
      "source": [
        "We can see that the above `df.describe().T` command presents statistical properties in horizontal form."
      ]
    },
    {
      "cell_type": "markdown",
      "metadata": {
        "id": "4AwhWKgZC9Wj"
      },
      "source": [
        "#### Important points to note\n",
        "\n",
        "\n",
        "- The above command `df.describe()` helps us to view the statistical properties of numerical variables. It excludes character variables.\n",
        "\n",
        "- If we want to view the statistical properties of character variables, we should run the following command -\n",
        "\n",
        "        `df.describe(include=['object'])`\n",
        "\n",
        "- If we want to view the statistical properties of all the variables, we should run the following command -\n",
        "\n",
        "        `df.describe(include='all')`"
      ]
    },
    {
      "cell_type": "code",
      "execution_count": null,
      "metadata": {
        "id": "FbgJaSrAC9Wj",
        "outputId": "8c50596b-f29d-493c-d77f-f92bc504805b"
      },
      "outputs": [
        {
          "data": {
            "text/html": [
              "<div>\n",
              "<style scoped>\n",
              "    .dataframe tbody tr th:only-of-type {\n",
              "        vertical-align: middle;\n",
              "    }\n",
              "\n",
              "    .dataframe tbody tr th {\n",
              "        vertical-align: top;\n",
              "    }\n",
              "\n",
              "    .dataframe thead th {\n",
              "        text-align: right;\n",
              "    }\n",
              "</style>\n",
              "<table border=\"1\" class=\"dataframe\">\n",
              "  <thead>\n",
              "    <tr style=\"text-align: right;\">\n",
              "      <th></th>\n",
              "      <th>age</th>\n",
              "      <th>education</th>\n",
              "      <th>occupation</th>\n",
              "      <th>sex</th>\n",
              "      <th>hours_per_week</th>\n",
              "      <th>income</th>\n",
              "    </tr>\n",
              "  </thead>\n",
              "  <tbody>\n",
              "    <tr>\n",
              "      <th>count</th>\n",
              "      <td>32561.000000</td>\n",
              "      <td>32561</td>\n",
              "      <td>32561</td>\n",
              "      <td>32561</td>\n",
              "      <td>32561.000000</td>\n",
              "      <td>32561.000000</td>\n",
              "    </tr>\n",
              "    <tr>\n",
              "      <th>unique</th>\n",
              "      <td>NaN</td>\n",
              "      <td>16</td>\n",
              "      <td>15</td>\n",
              "      <td>2</td>\n",
              "      <td>NaN</td>\n",
              "      <td>NaN</td>\n",
              "    </tr>\n",
              "    <tr>\n",
              "      <th>top</th>\n",
              "      <td>NaN</td>\n",
              "      <td>HS-grad</td>\n",
              "      <td>Prof-specialty</td>\n",
              "      <td>Male</td>\n",
              "      <td>NaN</td>\n",
              "      <td>NaN</td>\n",
              "    </tr>\n",
              "    <tr>\n",
              "      <th>freq</th>\n",
              "      <td>NaN</td>\n",
              "      <td>10501</td>\n",
              "      <td>4140</td>\n",
              "      <td>21790</td>\n",
              "      <td>NaN</td>\n",
              "      <td>NaN</td>\n",
              "    </tr>\n",
              "    <tr>\n",
              "      <th>mean</th>\n",
              "      <td>38.581647</td>\n",
              "      <td>NaN</td>\n",
              "      <td>NaN</td>\n",
              "      <td>NaN</td>\n",
              "      <td>40.437456</td>\n",
              "      <td>0.240810</td>\n",
              "    </tr>\n",
              "    <tr>\n",
              "      <th>std</th>\n",
              "      <td>13.640433</td>\n",
              "      <td>NaN</td>\n",
              "      <td>NaN</td>\n",
              "      <td>NaN</td>\n",
              "      <td>12.347429</td>\n",
              "      <td>0.427581</td>\n",
              "    </tr>\n",
              "    <tr>\n",
              "      <th>min</th>\n",
              "      <td>17.000000</td>\n",
              "      <td>NaN</td>\n",
              "      <td>NaN</td>\n",
              "      <td>NaN</td>\n",
              "      <td>1.000000</td>\n",
              "      <td>0.000000</td>\n",
              "    </tr>\n",
              "    <tr>\n",
              "      <th>25%</th>\n",
              "      <td>28.000000</td>\n",
              "      <td>NaN</td>\n",
              "      <td>NaN</td>\n",
              "      <td>NaN</td>\n",
              "      <td>40.000000</td>\n",
              "      <td>0.000000</td>\n",
              "    </tr>\n",
              "    <tr>\n",
              "      <th>50%</th>\n",
              "      <td>37.000000</td>\n",
              "      <td>NaN</td>\n",
              "      <td>NaN</td>\n",
              "      <td>NaN</td>\n",
              "      <td>40.000000</td>\n",
              "      <td>0.000000</td>\n",
              "    </tr>\n",
              "    <tr>\n",
              "      <th>75%</th>\n",
              "      <td>48.000000</td>\n",
              "      <td>NaN</td>\n",
              "      <td>NaN</td>\n",
              "      <td>NaN</td>\n",
              "      <td>45.000000</td>\n",
              "      <td>0.000000</td>\n",
              "    </tr>\n",
              "    <tr>\n",
              "      <th>max</th>\n",
              "      <td>90.000000</td>\n",
              "      <td>NaN</td>\n",
              "      <td>NaN</td>\n",
              "      <td>NaN</td>\n",
              "      <td>99.000000</td>\n",
              "      <td>1.000000</td>\n",
              "    </tr>\n",
              "  </tbody>\n",
              "</table>\n",
              "</div>"
            ],
            "text/plain": [
              "                 age education       occupation    sex  hours_per_week  \\\n",
              "count   32561.000000     32561            32561  32561    32561.000000   \n",
              "unique           NaN        16               15      2             NaN   \n",
              "top              NaN   HS-grad   Prof-specialty   Male             NaN   \n",
              "freq             NaN     10501             4140  21790             NaN   \n",
              "mean       38.581647       NaN              NaN    NaN       40.437456   \n",
              "std        13.640433       NaN              NaN    NaN       12.347429   \n",
              "min        17.000000       NaN              NaN    NaN        1.000000   \n",
              "25%        28.000000       NaN              NaN    NaN       40.000000   \n",
              "50%        37.000000       NaN              NaN    NaN       40.000000   \n",
              "75%        48.000000       NaN              NaN    NaN       45.000000   \n",
              "max        90.000000       NaN              NaN    NaN       99.000000   \n",
              "\n",
              "              income  \n",
              "count   32561.000000  \n",
              "unique           NaN  \n",
              "top              NaN  \n",
              "freq             NaN  \n",
              "mean        0.240810  \n",
              "std         0.427581  \n",
              "min         0.000000  \n",
              "25%         0.000000  \n",
              "50%         0.000000  \n",
              "75%         0.000000  \n",
              "max         1.000000  "
            ]
          },
          "execution_count": 19,
          "metadata": {},
          "output_type": "execute_result"
        }
      ],
      "source": [
        "df.describe(include='all')  ## for all the variables : numerical as well as string"
      ]
    },
    {
      "cell_type": "markdown",
      "metadata": {
        "id": "wAbeAi0iC9Wj"
      },
      "source": [
        "### 4.7 Check for missing values <a class=\"anchor\" id=\"4.7\"></a>\n",
        "\n",
        "\n",
        "- In Python missing data is represented by two values:\n",
        "\n",
        "   - **None** : None is a Python singleton object that is often used for missing data in Python code.\n",
        "\n",
        "   - **NaN** : NaN is an acronym for Not a Number. It is a special floating-point value recognized by all systems   that use the standard IEEE floating-point representation.\n",
        "\n",
        "- There are different methods in place on how to detect missing values.\n",
        "\n",
        "\n",
        "#### Pandas isnull() and notnull() functions\n",
        "\n",
        "- Pandas offers two functions to test for missing values - **isnull()** and **notnull()**.\n",
        "\n",
        "- These are simple functions that return a boolean value indicating whether the passed in argument value is in fact missing data.\n",
        "\n",
        "\n",
        "Below, I will list some useful commands to deal with missing values.\n",
        "\n",
        "\n",
        "#### Useful commands to detect missing values\n",
        "\n",
        "- **df.isnull()**\n",
        "\n",
        "The above command checks whether each cell in a dataframe contains missing values or not. If the cell contains missing value, it returns True otherwise it returns False.\n",
        "\n",
        "- **df.isnull().sum()**\n",
        "\n",
        "The above command returns total number of missing values in each column in the dataframe.\n",
        "\n",
        "- **df.isnull().sum().sum()**\n",
        "\n",
        "It returns total number of missing values in the dataframe.\n",
        "\n",
        "\n",
        "- **df.isnull().mean()**\n",
        "\n",
        "It returns percentage of missing values in each column in the dataframe.\n",
        "\n",
        "\n",
        "- **df.isnull().any()**\n",
        "\n",
        "It checks which column has null values and which has not. The columns which has null values returns TRUE and FALSE otherwise.\n",
        "\n",
        "- **df.isnull().any().any()**\n",
        "\n",
        "It returns a boolean value indicating whether the dataframe has missing values or not. If dataframe contains missing values it returns TRUE and FALSE otherwise.\n",
        "\n",
        "- **df.isnull().values.any()**\n",
        "\n",
        "It checks whether a particular column has missing values or not. If the column contains missing values, then it returns TRUE otherwise FALSE.\n",
        "\n",
        "- **df.isnull().values.sum()**\n",
        "\n",
        "It returns the total number of missing values in the dataframe.\n"
      ]
    },
    {
      "cell_type": "code",
      "execution_count": null,
      "metadata": {
        "id": "PYfVkA-xC9Wk",
        "outputId": "7860f1ce-d8f6-465b-d707-677af30e3357"
      },
      "outputs": [
        {
          "data": {
            "text/plain": [
              "age               0\n",
              "education         0\n",
              "occupation        0\n",
              "sex               0\n",
              "hours_per_week    0\n",
              "income            0\n",
              "dtype: int64"
            ]
          },
          "execution_count": 20,
          "metadata": {},
          "output_type": "execute_result"
        }
      ],
      "source": [
        "# check for missing values in each column\n",
        "\n",
        "df.isna().sum()  #.sum()"
      ]
    },
    {
      "cell_type": "markdown",
      "metadata": {
        "id": "FqfcV_lqC9Wk"
      },
      "source": [
        "#### Interpretation\n",
        "\n",
        "We can see that there are no missing values in the dataset."
      ]
    },
    {
      "cell_type": "markdown",
      "metadata": {
        "id": "HqbOZhXBC9Wk"
      },
      "source": [
        "### 4.8 Check with ASSERT statement <a class=\"anchor\" id=\"4.8\"></a>\n",
        "\n",
        "\n",
        "- We must confirm that our dataset has no missing values.\n",
        "\n",
        "- We can write an **Assert statement** to verify this.\n",
        "\n",
        "- We can use an assert statement to programmatically check that no missing, unexpected 0 or negative values are present.\n",
        "\n",
        "- This gives us confidence that our code is running properly.\n",
        "\n",
        "- **Assert statement** will return nothing if the value being tested is true and will throw an AssertionError if the value is false.\n",
        "\n",
        "- Asserts\n",
        "\n",
        "   - assert 1 == 1 (return Nothing if the value is True)\n",
        "\n",
        "   - assert 1 == 2 (return AssertionError if the value is False)"
      ]
    },
    {
      "cell_type": "code",
      "execution_count": null,
      "metadata": {
        "id": "3ztMGLWuC9Wk"
      },
      "outputs": [],
      "source": [
        "#assert that there are no missing values in the dataframe\n",
        "\n",
        "assert pd.notnull(df).all().all()"
      ]
    },
    {
      "cell_type": "markdown",
      "metadata": {
        "id": "tRl75pNuC9Wk"
      },
      "source": [
        "#### Interpretation\n",
        "\n",
        "- The above command does not throw any error. Hence, it is confirmed that there are no missing or negative values in the dataset.\n",
        "\n",
        "- All the values are greater than or equal to zero excluding character values."
      ]
    },
    {
      "cell_type": "markdown",
      "metadata": {
        "id": "lXJNjP3nC9Wk"
      },
      "source": [
        "### Types of variables\n",
        "\n",
        "- In this section, I segregate the dataset into categorical and numerical variables.\n",
        "\n",
        "- There are a mixture of categorical and numerical variables in the dataset.\n",
        "\n",
        "- Categorical variables have data type object. Numerical variables have data type int64.\n",
        "\n",
        "- First of all, I will explore categorical variables."
      ]
    },
    {
      "cell_type": "markdown",
      "metadata": {
        "id": "aPEHliIqC9Wk"
      },
      "source": [
        "## 5. Explore Categorical Variables <a class=\"anchor\" id=\"5\"></a>\n",
        "\n",
        "\n",
        "[Back to Table of Contents](#0.1)"
      ]
    },
    {
      "cell_type": "markdown",
      "metadata": {
        "id": "Qv0M7bSuC9Wl"
      },
      "source": [
        "### 5.1 Find categorical variables"
      ]
    },
    {
      "cell_type": "code",
      "execution_count": null,
      "metadata": {
        "id": "JPzlWh3NC9Wl",
        "outputId": "d272f169-b741-4675-e819-b1164f21cf95"
      },
      "outputs": [
        {
          "data": {
            "text/html": [
              "<div>\n",
              "<style scoped>\n",
              "    .dataframe tbody tr th:only-of-type {\n",
              "        vertical-align: middle;\n",
              "    }\n",
              "\n",
              "    .dataframe tbody tr th {\n",
              "        vertical-align: top;\n",
              "    }\n",
              "\n",
              "    .dataframe thead th {\n",
              "        text-align: right;\n",
              "    }\n",
              "</style>\n",
              "<table border=\"1\" class=\"dataframe\">\n",
              "  <thead>\n",
              "    <tr style=\"text-align: right;\">\n",
              "      <th></th>\n",
              "      <th>age</th>\n",
              "      <th>education</th>\n",
              "      <th>occupation</th>\n",
              "      <th>sex</th>\n",
              "      <th>hours_per_week</th>\n",
              "      <th>income</th>\n",
              "    </tr>\n",
              "  </thead>\n",
              "  <tbody>\n",
              "    <tr>\n",
              "      <th>0</th>\n",
              "      <td>39</td>\n",
              "      <td>Bachelors</td>\n",
              "      <td>Adm-clerical</td>\n",
              "      <td>Male</td>\n",
              "      <td>40</td>\n",
              "      <td>0</td>\n",
              "    </tr>\n",
              "    <tr>\n",
              "      <th>1</th>\n",
              "      <td>50</td>\n",
              "      <td>Bachelors</td>\n",
              "      <td>Exec-managerial</td>\n",
              "      <td>Male</td>\n",
              "      <td>13</td>\n",
              "      <td>0</td>\n",
              "    </tr>\n",
              "    <tr>\n",
              "      <th>2</th>\n",
              "      <td>38</td>\n",
              "      <td>HS-grad</td>\n",
              "      <td>Handlers-cleaners</td>\n",
              "      <td>Male</td>\n",
              "      <td>40</td>\n",
              "      <td>0</td>\n",
              "    </tr>\n",
              "    <tr>\n",
              "      <th>3</th>\n",
              "      <td>53</td>\n",
              "      <td>11th</td>\n",
              "      <td>Handlers-cleaners</td>\n",
              "      <td>Male</td>\n",
              "      <td>40</td>\n",
              "      <td>0</td>\n",
              "    </tr>\n",
              "    <tr>\n",
              "      <th>4</th>\n",
              "      <td>28</td>\n",
              "      <td>Bachelors</td>\n",
              "      <td>Prof-specialty</td>\n",
              "      <td>Female</td>\n",
              "      <td>40</td>\n",
              "      <td>0</td>\n",
              "    </tr>\n",
              "  </tbody>\n",
              "</table>\n",
              "</div>"
            ],
            "text/plain": [
              "   age   education          occupation      sex  hours_per_week  income\n",
              "0   39   Bachelors        Adm-clerical     Male              40       0\n",
              "1   50   Bachelors     Exec-managerial     Male              13       0\n",
              "2   38     HS-grad   Handlers-cleaners     Male              40       0\n",
              "3   53        11th   Handlers-cleaners     Male              40       0\n",
              "4   28   Bachelors      Prof-specialty   Female              40       0"
            ]
          },
          "execution_count": 22,
          "metadata": {},
          "output_type": "execute_result"
        }
      ],
      "source": [
        "df.head()"
      ]
    },
    {
      "cell_type": "code",
      "execution_count": null,
      "metadata": {
        "id": "Hf7us_wwC9Wl",
        "outputId": "da101ffe-d8b6-40bf-b76f-ecf0cd3c2689"
      },
      "outputs": [
        {
          "data": {
            "text/plain": [
              "Index(['age', 'education', 'occupation', 'sex', 'hours_per_week', 'income'], dtype='object')"
            ]
          },
          "execution_count": 23,
          "metadata": {},
          "output_type": "execute_result"
        }
      ],
      "source": [
        "df.columns"
      ]
    },
    {
      "cell_type": "code",
      "execution_count": null,
      "metadata": {
        "id": "g2BjsCY9C9Wl",
        "outputId": "1ed6a3e0-91f6-48c8-ced1-464a2b9a9030"
      },
      "outputs": [
        {
          "name": "stdout",
          "output_type": "stream",
          "text": [
            "There are 3 categorical variables\n",
            "\n",
            "The categorical variables are :\n",
            "\n",
            " ['education', 'occupation', 'sex']\n"
          ]
        }
      ],
      "source": [
        "categorical = [x for x in df.columns if df[x].dtype=='O'] ## list comprehension  ## checking for the datatype of the column\n",
        "\n",
        "print('There are {} categorical variables\\n'.format(len(categorical)))  ## how many categorical var are there\n",
        "\n",
        "print('The categorical variables are :\\n\\n', categorical)"
      ]
    },
    {
      "cell_type": "markdown",
      "metadata": {
        "id": "rHqQweFCC9Wl"
      },
      "source": [
        "### 5.2 Preview categorical variables"
      ]
    },
    {
      "cell_type": "code",
      "execution_count": null,
      "metadata": {
        "id": "gr8G-7CIC9Wl",
        "outputId": "c15bdf06-68af-42c1-c593-17389ae4c7ef"
      },
      "outputs": [
        {
          "data": {
            "text/html": [
              "<div>\n",
              "<style scoped>\n",
              "    .dataframe tbody tr th:only-of-type {\n",
              "        vertical-align: middle;\n",
              "    }\n",
              "\n",
              "    .dataframe tbody tr th {\n",
              "        vertical-align: top;\n",
              "    }\n",
              "\n",
              "    .dataframe thead th {\n",
              "        text-align: right;\n",
              "    }\n",
              "</style>\n",
              "<table border=\"1\" class=\"dataframe\">\n",
              "  <thead>\n",
              "    <tr style=\"text-align: right;\">\n",
              "      <th></th>\n",
              "      <th>education</th>\n",
              "      <th>occupation</th>\n",
              "      <th>sex</th>\n",
              "    </tr>\n",
              "  </thead>\n",
              "  <tbody>\n",
              "    <tr>\n",
              "      <th>0</th>\n",
              "      <td>Bachelors</td>\n",
              "      <td>Adm-clerical</td>\n",
              "      <td>Male</td>\n",
              "    </tr>\n",
              "    <tr>\n",
              "      <th>1</th>\n",
              "      <td>Bachelors</td>\n",
              "      <td>Exec-managerial</td>\n",
              "      <td>Male</td>\n",
              "    </tr>\n",
              "    <tr>\n",
              "      <th>2</th>\n",
              "      <td>HS-grad</td>\n",
              "      <td>Handlers-cleaners</td>\n",
              "      <td>Male</td>\n",
              "    </tr>\n",
              "    <tr>\n",
              "      <th>3</th>\n",
              "      <td>11th</td>\n",
              "      <td>Handlers-cleaners</td>\n",
              "      <td>Male</td>\n",
              "    </tr>\n",
              "    <tr>\n",
              "      <th>4</th>\n",
              "      <td>Bachelors</td>\n",
              "      <td>Prof-specialty</td>\n",
              "      <td>Female</td>\n",
              "    </tr>\n",
              "  </tbody>\n",
              "</table>\n",
              "</div>"
            ],
            "text/plain": [
              "    education          occupation      sex\n",
              "0   Bachelors        Adm-clerical     Male\n",
              "1   Bachelors     Exec-managerial     Male\n",
              "2     HS-grad   Handlers-cleaners     Male\n",
              "3        11th   Handlers-cleaners     Male\n",
              "4   Bachelors      Prof-specialty   Female"
            ]
          },
          "execution_count": 25,
          "metadata": {},
          "output_type": "execute_result"
        }
      ],
      "source": [
        "df[categorical].head()  ## accessing the data for categorical column"
      ]
    },
    {
      "cell_type": "markdown",
      "metadata": {
        "id": "GTKLt_C3C9Wl"
      },
      "source": [
        "### 5.3 Summary of categorical variables\n",
        "\n",
        "- There are 9 categorical variables in the dataset.\n",
        "\n",
        "- The categorical variables are given by `workclass`, `education`, `marital_status`, `occupation`, `relationship`, `race`, `sex`, `native_country` and `income`.\n",
        "\n",
        "- `income` is the target variable."
      ]
    },
    {
      "cell_type": "markdown",
      "metadata": {
        "id": "upzC6XqAC9Wl"
      },
      "source": [
        "### 5.4 Frequency distribution of categorical variables\n",
        "\n",
        "Now, we will check the frequency distribution of categorical variables."
      ]
    },
    {
      "cell_type": "code",
      "execution_count": null,
      "metadata": {
        "id": "OFFXRaE-C9Wl"
      },
      "outputs": [],
      "source": [
        "# df.sex.value_counts()\n",
        "# df.education.value_counts()"
      ]
    },
    {
      "cell_type": "code",
      "execution_count": null,
      "metadata": {
        "id": "TyRfjbeAC9Wl",
        "outputId": "83083122-0e01-43a7-ae80-59d297ca0b3a"
      },
      "outputs": [
        {
          "name": "stdout",
          "output_type": "stream",
          "text": [
            " HS-grad         10501\n",
            " Some-college     7291\n",
            " Bachelors        5355\n",
            " Masters          1723\n",
            " Assoc-voc        1382\n",
            " 11th             1175\n",
            " Assoc-acdm       1067\n",
            " 10th              933\n",
            " 7th-8th           646\n",
            " Prof-school       576\n",
            " 9th               514\n",
            " 12th              433\n",
            " Doctorate         413\n",
            " 5th-6th           333\n",
            " 1st-4th           168\n",
            " Preschool          51\n",
            "Name: education, dtype: int64\n",
            " Prof-specialty       4140\n",
            " Craft-repair         4099\n",
            " Exec-managerial      4066\n",
            " Adm-clerical         3770\n",
            " Sales                3650\n",
            " Other-service        3295\n",
            " Machine-op-inspct    2002\n",
            " ?                    1843\n",
            " Transport-moving     1597\n",
            " Handlers-cleaners    1370\n",
            " Farming-fishing       994\n",
            " Tech-support          928\n",
            " Protective-serv       649\n",
            " Priv-house-serv       149\n",
            " Armed-Forces            9\n",
            "Name: occupation, dtype: int64\n",
            " Male      21790\n",
            " Female    10771\n",
            "Name: sex, dtype: int64\n"
          ]
        }
      ],
      "source": [
        "for x in categorical:            ### for loop\n",
        "\n",
        "    print(df[x].value_counts())  ## gives you the count of rows for each category of a column"
      ]
    },
    {
      "cell_type": "markdown",
      "metadata": {
        "id": "e8EA23zdC9Wm"
      },
      "source": [
        "### 5.5 Percentage of frequency distribution of values"
      ]
    },
    {
      "cell_type": "code",
      "execution_count": null,
      "metadata": {
        "id": "DndUgwx1C9Wm",
        "outputId": "d010f3ff-9ec0-41d2-ebb7-c3ebcf3cdcb2"
      },
      "outputs": [
        {
          "name": "stdout",
          "output_type": "stream",
          "text": [
            " HS-grad         0.322502\n",
            " Some-college    0.223918\n",
            " Bachelors       0.164461\n",
            " Masters         0.052916\n",
            " Assoc-voc       0.042443\n",
            " 11th            0.036086\n",
            " Assoc-acdm      0.032769\n",
            " 10th            0.028654\n",
            " 7th-8th         0.019840\n",
            " Prof-school     0.017690\n",
            " 9th             0.015786\n",
            " 12th            0.013298\n",
            " Doctorate       0.012684\n",
            " 5th-6th         0.010227\n",
            " 1st-4th         0.005160\n",
            " Preschool       0.001566\n",
            "Name: education, dtype: float64\n",
            " Prof-specialty       0.127146\n",
            " Craft-repair         0.125887\n",
            " Exec-managerial      0.124873\n",
            " Adm-clerical         0.115783\n",
            " Sales                0.112097\n",
            " Other-service        0.101195\n",
            " Machine-op-inspct    0.061485\n",
            " ?                    0.056601\n",
            " Transport-moving     0.049046\n",
            " Handlers-cleaners    0.042075\n",
            " Farming-fishing      0.030527\n",
            " Tech-support         0.028500\n",
            " Protective-serv      0.019932\n",
            " Priv-house-serv      0.004576\n",
            " Armed-Forces         0.000276\n",
            "Name: occupation, dtype: float64\n",
            " Male      0.669205\n",
            " Female    0.330795\n",
            "Name: sex, dtype: float64\n"
          ]
        }
      ],
      "source": [
        "for var in categorical:\n",
        "\n",
        "     print(df[var].value_counts()/(len(df)))  ## % split of each category of each categorical variable"
      ]
    },
    {
      "cell_type": "markdown",
      "metadata": {
        "id": "MYBaFJhrC9Wm"
      },
      "source": [
        "#### Comment\n",
        "\n",
        "- Now, we can see that there are several variables like `workclass`, `occupation` and `native_country` which contain missing values.\n",
        "\n",
        "- Generally, the missing values are coded as `NaN` and python will detect them with the usual command of df.isnull().sum().\n",
        "\n",
        "- But, in this case the missing values are coded as `?`. Python fail to detect these as missing values because it does not consider `?` as missing values.\n",
        "\n",
        "- So, I have to replace `?` with `NaN` so that Python can detect these missing values.\n",
        "\n",
        "- I will explore these variables and replace `?` with `NaN`."
      ]
    },
    {
      "cell_type": "markdown",
      "metadata": {
        "id": "9V7U4hndC9Wm"
      },
      "source": [
        "### 5.6 Explore the variables"
      ]
    },
    {
      "cell_type": "markdown",
      "metadata": {
        "id": "BPVo3WArC9Wm"
      },
      "source": [
        "#### Explore `income` target variable"
      ]
    },
    {
      "cell_type": "code",
      "execution_count": null,
      "metadata": {
        "id": "0AodqMLaC9Wm",
        "outputId": "f11c81e9-f251-4e4c-942c-a19a730b48b3"
      },
      "outputs": [
        {
          "data": {
            "text/plain": [
              "0    24720\n",
              "1     7841\n",
              "Name: income, dtype: int64"
            ]
          },
          "execution_count": 28,
          "metadata": {},
          "output_type": "execute_result"
        }
      ],
      "source": [
        "# view the frequency distribution of values\n",
        "df['income'].value_counts()"
      ]
    },
    {
      "cell_type": "code",
      "execution_count": null,
      "metadata": {
        "id": "0p_AeKWNC9Wm",
        "outputId": "a3a5c31b-9faa-4d47-fc38-4609b4d4c28c"
      },
      "outputs": [
        {
          "data": {
            "image/png": "[encoded data removed]",
            "text/plain": [
              "<Figure size 640x480 with 1 Axes>"
            ]
          },
          "metadata": {},
          "output_type": "display_data"
        }
      ],
      "source": [
        "# Count the occurrences of each category\n",
        "category_counts = df['income'].value_counts().sort_index()\n",
        "\n",
        "# Create the bar chart\n",
        "category_counts.plot(kind='bar', color=['blue', 'green'])\n",
        "\n",
        "# Add titles and labels\n",
        "plt.xlabel('Attrition_Flag')\n",
        "plt.ylabel('Frequency')\n",
        "plt.title('Frequency of Categories 0 and 1')\n",
        "\n",
        "# Display the chart\n",
        "plt.show()"
      ]
    },
    {
      "cell_type": "markdown",
      "metadata": {
        "id": "qDNUV1hvC9Wm"
      },
      "source": [
        "#### Visualize `income` wrt `sex` variable"
      ]
    },
    {
      "cell_type": "code",
      "execution_count": null,
      "metadata": {
        "id": "PgLckpS2C9Wm",
        "outputId": "1b81a1c9-9b95-4f50-e566-5ef5d97efadf"
      },
      "outputs": [
        {
          "data": {
            "image/png": "[encoded data removed]",
            "text/plain": [
              "<Figure size 400x400 with 1 Axes>"
            ]
          },
          "metadata": {},
          "output_type": "display_data"
        }
      ],
      "source": [
        "f, ax = plt.subplots(figsize=(4, 4))\n",
        "ax = sns.countplot(x=\"income\", hue=\"sex\", data=df, palette=\"Set1\")\n",
        "ax.set_title(\"Frequency distribution of income variable wrt sex\")\n",
        "plt.show()"
      ]
    },
    {
      "cell_type": "markdown",
      "metadata": {
        "id": "yKwEMbVlC9Wm"
      },
      "source": [
        "#### Interpretation\n",
        "\n",
        "\n",
        "- We can see that males make more money than females in both the income categories."
      ]
    },
    {
      "cell_type": "markdown",
      "metadata": {
        "id": "qyAwXERGC9Wm"
      },
      "source": [
        "#### Explore `occupation` variable"
      ]
    },
    {
      "cell_type": "code",
      "execution_count": null,
      "metadata": {
        "id": "nbOuGIqOC9Wm",
        "outputId": "a2847a4f-b4ec-43f7-ec1b-3e85d0501625"
      },
      "outputs": [
        {
          "data": {
            "text/html": [
              "<div>\n",
              "<style scoped>\n",
              "    .dataframe tbody tr th:only-of-type {\n",
              "        vertical-align: middle;\n",
              "    }\n",
              "\n",
              "    .dataframe tbody tr th {\n",
              "        vertical-align: top;\n",
              "    }\n",
              "\n",
              "    .dataframe thead th {\n",
              "        text-align: right;\n",
              "    }\n",
              "</style>\n",
              "<table border=\"1\" class=\"dataframe\">\n",
              "  <thead>\n",
              "    <tr style=\"text-align: right;\">\n",
              "      <th></th>\n",
              "      <th>age</th>\n",
              "      <th>education</th>\n",
              "      <th>occupation</th>\n",
              "      <th>sex</th>\n",
              "      <th>hours_per_week</th>\n",
              "      <th>income</th>\n",
              "    </tr>\n",
              "  </thead>\n",
              "  <tbody>\n",
              "    <tr>\n",
              "      <th>0</th>\n",
              "      <td>39</td>\n",
              "      <td>Bachelors</td>\n",
              "      <td>Adm-clerical</td>\n",
              "      <td>Male</td>\n",
              "      <td>40</td>\n",
              "      <td>0</td>\n",
              "    </tr>\n",
              "    <tr>\n",
              "      <th>1</th>\n",
              "      <td>50</td>\n",
              "      <td>Bachelors</td>\n",
              "      <td>Exec-managerial</td>\n",
              "      <td>Male</td>\n",
              "      <td>13</td>\n",
              "      <td>0</td>\n",
              "    </tr>\n",
              "    <tr>\n",
              "      <th>2</th>\n",
              "      <td>38</td>\n",
              "      <td>HS-grad</td>\n",
              "      <td>Handlers-cleaners</td>\n",
              "      <td>Male</td>\n",
              "      <td>40</td>\n",
              "      <td>0</td>\n",
              "    </tr>\n",
              "    <tr>\n",
              "      <th>3</th>\n",
              "      <td>53</td>\n",
              "      <td>11th</td>\n",
              "      <td>Handlers-cleaners</td>\n",
              "      <td>Male</td>\n",
              "      <td>40</td>\n",
              "      <td>0</td>\n",
              "    </tr>\n",
              "    <tr>\n",
              "      <th>4</th>\n",
              "      <td>28</td>\n",
              "      <td>Bachelors</td>\n",
              "      <td>Prof-specialty</td>\n",
              "      <td>Female</td>\n",
              "      <td>40</td>\n",
              "      <td>0</td>\n",
              "    </tr>\n",
              "  </tbody>\n",
              "</table>\n",
              "</div>"
            ],
            "text/plain": [
              "   age   education          occupation      sex  hours_per_week  income\n",
              "0   39   Bachelors        Adm-clerical     Male              40       0\n",
              "1   50   Bachelors     Exec-managerial     Male              13       0\n",
              "2   38     HS-grad   Handlers-cleaners     Male              40       0\n",
              "3   53        11th   Handlers-cleaners     Male              40       0\n",
              "4   28   Bachelors      Prof-specialty   Female              40       0"
            ]
          },
          "execution_count": 31,
          "metadata": {},
          "output_type": "execute_result"
        }
      ],
      "source": [
        "df.head()"
      ]
    },
    {
      "cell_type": "code",
      "execution_count": null,
      "metadata": {
        "id": "3N8wvXkcC9Wn",
        "outputId": "3832e614-0b6c-467a-ea74-3f2144e055ce"
      },
      "outputs": [
        {
          "data": {
            "text/plain": [
              " Prof-specialty       4140\n",
              " Craft-repair         4099\n",
              " Exec-managerial      4066\n",
              " Adm-clerical         3770\n",
              " Sales                3650\n",
              " Other-service        3295\n",
              " Machine-op-inspct    2002\n",
              " ?                    1843\n",
              " Transport-moving     1597\n",
              " Handlers-cleaners    1370\n",
              " Farming-fishing       994\n",
              " Tech-support          928\n",
              " Protective-serv       649\n",
              " Priv-house-serv       149\n",
              " Armed-Forces            9\n",
              "Name: occupation, dtype: int64"
            ]
          },
          "execution_count": 32,
          "metadata": {},
          "output_type": "execute_result"
        }
      ],
      "source": [
        "# view frequency distribution of values\n",
        "df.occupation.value_counts()"
      ]
    },
    {
      "cell_type": "markdown",
      "metadata": {
        "id": "rD4WB17LC9Wn"
      },
      "source": [
        "We can see that there are 1843 values encoded as `?` in occupation variable. I will replace these `?` with `NaN`."
      ]
    },
    {
      "cell_type": "code",
      "execution_count": null,
      "metadata": {
        "id": "N0-2TPMnC9Wn"
      },
      "outputs": [],
      "source": [
        "# replace '?' values in occupation variable with `NaN` with null value\n",
        "\n",
        "df['occupation'].replace(' ?', np.NaN, inplace=True)"
      ]
    },
    {
      "cell_type": "code",
      "execution_count": null,
      "metadata": {
        "id": "6Qhb5cYOC9Wn",
        "outputId": "87af40d0-8cbc-4a8a-9840-cc73b7b9d4bd"
      },
      "outputs": [
        {
          "data": {
            "text/plain": [
              " Prof-specialty       4140\n",
              " Craft-repair         4099\n",
              " Exec-managerial      4066\n",
              " Adm-clerical         3770\n",
              " Sales                3650\n",
              " Other-service        3295\n",
              " Machine-op-inspct    2002\n",
              " Transport-moving     1597\n",
              " Handlers-cleaners    1370\n",
              " Farming-fishing       994\n",
              " Tech-support          928\n",
              " Protective-serv       649\n",
              " Priv-house-serv       149\n",
              " Armed-Forces            9\n",
              "Name: occupation, dtype: int64"
            ]
          },
          "execution_count": 10,
          "metadata": {},
          "output_type": "execute_result"
        }
      ],
      "source": [
        "# again check the frequency distribution of values\n",
        "df.occupation.value_counts()"
      ]
    },
    {
      "cell_type": "code",
      "execution_count": null,
      "metadata": {
        "id": "pAEnJY1CC9Wn",
        "outputId": "81c9ba79-8515-41ff-8977-f37720d65229"
      },
      "outputs": [
        {
          "data": {
            "text/plain": [
              "age                  0\n",
              "education            0\n",
              "occupation        1843\n",
              "sex                  0\n",
              "hours_per_week       0\n",
              "income               0\n",
              "dtype: int64"
            ]
          },
          "execution_count": 35,
          "metadata": {},
          "output_type": "execute_result"
        }
      ],
      "source": [
        "df.isna().sum() ### i will have to treat he missing values now"
      ]
    },
    {
      "cell_type": "code",
      "execution_count": null,
      "metadata": {
        "id": "BXT4Vnt1C9Wn",
        "outputId": "763a8a77-5d23-43e9-f3f6-c5a405a63c4a"
      },
      "outputs": [
        {
          "data": {
            "image/png": "[encoded data removed]",
            "text/plain": [
              "<Figure size 600x300 with 1 Axes>"
            ]
          },
          "metadata": {},
          "output_type": "display_data"
        }
      ],
      "source": [
        "# visualize frequency distribution of `occupation` variable\n",
        "\n",
        "f, ax = plt.subplots(figsize=(6, 3))\n",
        "ax = sns.countplot(x=\"occupation\", data=df, palette=\"Set1\")\n",
        "ax.set_title(\"Frequency distribution of occupation variable\")\n",
        "ax.set_xticklabels(df.occupation.value_counts().index, rotation=30)\n",
        "plt.show()"
      ]
    },
    {
      "cell_type": "markdown",
      "metadata": {
        "id": "5tvboI-QC9Wn"
      },
      "source": [
        "### 5.7 Check missing values in categorical variables"
      ]
    },
    {
      "cell_type": "code",
      "execution_count": null,
      "metadata": {
        "id": "86PwzmFGC9Wn",
        "outputId": "d3d592a2-6604-41f0-f5cd-8d0400f4eabc"
      },
      "outputs": [
        {
          "data": {
            "text/plain": [
              "education        0\n",
              "occupation    1843\n",
              "sex              0\n",
              "dtype: int64"
            ]
          },
          "execution_count": 37,
          "metadata": {},
          "output_type": "execute_result"
        }
      ],
      "source": [
        "df[categorical].isnull().sum()"
      ]
    },
    {
      "cell_type": "markdown",
      "metadata": {
        "id": "jjeKy7QjC9Wn"
      },
      "source": [
        "Now, we can see that `workclass`, `occupation` and `native_country` variable contains missing values."
      ]
    },
    {
      "cell_type": "markdown",
      "metadata": {
        "id": "4dUjP9DtC9Wo"
      },
      "source": [
        "### 5.8 Number of labels: Cardinality\n",
        "\n",
        "- The number of labels within a categorical variable is known as **cardinality**.\n",
        "\n",
        "- A high number of labels within a variable is known as **high cardinality**.\n",
        "\n",
        "- High cardinality may pose some serious problems in the machine learning model. So, I will check for high cardinality."
      ]
    },
    {
      "cell_type": "code",
      "execution_count": null,
      "metadata": {
        "id": "XBfr6lB0C9Wo",
        "outputId": "cf78de74-410c-4887-84fd-f641c329429d"
      },
      "outputs": [
        {
          "name": "stdout",
          "output_type": "stream",
          "text": [
            "education  contains  16  labels\n",
            "occupation  contains  14  labels\n",
            "sex  contains  2  labels\n"
          ]
        }
      ],
      "source": [
        "# check for cardinality in categorical variables\n",
        "\n",
        "for var in categorical:  ### checking the cardinality : no. of categories or labels or unique values in each categorical column\n",
        "\n",
        "    print(var, ' contains ', df[var].nunique(), ' labels')"
      ]
    },
    {
      "cell_type": "markdown",
      "metadata": {
        "id": "_9VjTI2gC9Wo"
      },
      "source": [
        "We can see that native_country column contains relatively large number of labels as compared to other columns. I will check for cardinality after train-test split."
      ]
    },
    {
      "cell_type": "markdown",
      "metadata": {
        "id": "pXod1ZiXC9Wo"
      },
      "source": [
        "## 6. Explore Numerical Variables <a class=\"anchor\" id=\"6\"></a>\n",
        "\n",
        "\n",
        "[Back to Table of Contents](#0.1)"
      ]
    },
    {
      "cell_type": "markdown",
      "metadata": {
        "id": "ohSPFRAQC9Wo"
      },
      "source": [
        "### 6.1  Find numerical variables"
      ]
    },
    {
      "cell_type": "code",
      "execution_count": null,
      "metadata": {
        "id": "seZpW8PZC9Wo",
        "outputId": "cfe5e1be-040a-4e5f-9058-54b8cd850410"
      },
      "outputs": [
        {
          "name": "stdout",
          "output_type": "stream",
          "text": [
            "There are 3 numerical variables\n",
            "\n",
            "The numerical variables are :\n",
            "\n",
            " ['age', 'hours_per_week', 'income']\n"
          ]
        }
      ],
      "source": [
        "numerical = [var for var in df.columns if df[var].dtype!='O']  ## my data type should not be object , DT should be numeric\n",
        "\n",
        "print('There are {} numerical variables\\n'.format(len(numerical)))\n",
        "\n",
        "print('The numerical variables are :\\n\\n', numerical)  ## list of numeric columns"
      ]
    },
    {
      "cell_type": "markdown",
      "metadata": {
        "id": "o3bV-e8nC9Wo"
      },
      "source": [
        "### 6.2 Preview the numerical variables"
      ]
    },
    {
      "cell_type": "code",
      "execution_count": null,
      "metadata": {
        "id": "oE8wvhnoC9Wo",
        "outputId": "a77f9843-83c3-4e40-e59b-288bce3d91de"
      },
      "outputs": [
        {
          "data": {
            "text/html": [
              "<div>\n",
              "<style scoped>\n",
              "    .dataframe tbody tr th:only-of-type {\n",
              "        vertical-align: middle;\n",
              "    }\n",
              "\n",
              "    .dataframe tbody tr th {\n",
              "        vertical-align: top;\n",
              "    }\n",
              "\n",
              "    .dataframe thead th {\n",
              "        text-align: right;\n",
              "    }\n",
              "</style>\n",
              "<table border=\"1\" class=\"dataframe\">\n",
              "  <thead>\n",
              "    <tr style=\"text-align: right;\">\n",
              "      <th></th>\n",
              "      <th>age</th>\n",
              "      <th>hours_per_week</th>\n",
              "      <th>income</th>\n",
              "    </tr>\n",
              "  </thead>\n",
              "  <tbody>\n",
              "    <tr>\n",
              "      <th>0</th>\n",
              "      <td>39</td>\n",
              "      <td>40</td>\n",
              "      <td>0</td>\n",
              "    </tr>\n",
              "    <tr>\n",
              "      <th>1</th>\n",
              "      <td>50</td>\n",
              "      <td>13</td>\n",
              "      <td>0</td>\n",
              "    </tr>\n",
              "    <tr>\n",
              "      <th>2</th>\n",
              "      <td>38</td>\n",
              "      <td>40</td>\n",
              "      <td>0</td>\n",
              "    </tr>\n",
              "    <tr>\n",
              "      <th>3</th>\n",
              "      <td>53</td>\n",
              "      <td>40</td>\n",
              "      <td>0</td>\n",
              "    </tr>\n",
              "    <tr>\n",
              "      <th>4</th>\n",
              "      <td>28</td>\n",
              "      <td>40</td>\n",
              "      <td>0</td>\n",
              "    </tr>\n",
              "  </tbody>\n",
              "</table>\n",
              "</div>"
            ],
            "text/plain": [
              "   age  hours_per_week  income\n",
              "0   39              40       0\n",
              "1   50              13       0\n",
              "2   38              40       0\n",
              "3   53              40       0\n",
              "4   28              40       0"
            ]
          },
          "execution_count": 40,
          "metadata": {},
          "output_type": "execute_result"
        }
      ],
      "source": [
        "df[numerical].head()"
      ]
    },
    {
      "cell_type": "markdown",
      "metadata": {
        "id": "kPhGOBoVC9Wo"
      },
      "source": [
        "### 6.3 Summary of numerical variables\n",
        "\n",
        "- There are 6 numerical variables.\n",
        "\n",
        "- These are given by `age`, `fnlwgt`, `education_num`,`capital_gain`, `capital_loss` and `hours_per_week`.\n",
        "\n",
        "- All of the numerical variables are of discrete data type."
      ]
    },
    {
      "cell_type": "markdown",
      "metadata": {
        "id": "2HtBBGLWC9Wo"
      },
      "source": [
        "### 6.4 Check missing values in numerical variables"
      ]
    },
    {
      "cell_type": "code",
      "execution_count": null,
      "metadata": {
        "id": "MBxtZvnkC9Wp",
        "outputId": "c0e3ffc5-fb56-49f6-c10d-b9d028e69853"
      },
      "outputs": [
        {
          "data": {
            "text/plain": [
              "age               0\n",
              "hours_per_week    0\n",
              "income            0\n",
              "dtype: int64"
            ]
          },
          "execution_count": 41,
          "metadata": {},
          "output_type": "execute_result"
        }
      ],
      "source": [
        "df[numerical].isnull().sum()"
      ]
    },
    {
      "cell_type": "markdown",
      "metadata": {
        "id": "PsrO3mSFC9Wp"
      },
      "source": [
        "We can see that there are no missing values in the numerical variables."
      ]
    },
    {
      "cell_type": "markdown",
      "metadata": {
        "id": "moMgbXumC9Wp"
      },
      "source": [
        "### 6.5 Explore numerical variables"
      ]
    },
    {
      "cell_type": "markdown",
      "metadata": {
        "id": "NioWRN_VC9Wp"
      },
      "source": [
        "#### Explore `age` variable"
      ]
    },
    {
      "cell_type": "code",
      "execution_count": null,
      "metadata": {
        "id": "I6DmRcBxC9Wp",
        "outputId": "4a75e4be-9e4d-425f-9aab-23b227e2f68a"
      },
      "outputs": [
        {
          "data": {
            "text/plain": [
              "array([39, 50, 38, 53, 28, 37, 49, 52, 31, 42, 30, 23, 32, 40, 34, 25, 43,\n",
              "       54, 35, 59, 56, 19, 20, 45, 22, 48, 21, 24, 57, 44, 41, 29, 18, 47,\n",
              "       46, 36, 79, 27, 67, 33, 76, 17, 55, 61, 70, 64, 71, 68, 66, 51, 58,\n",
              "       26, 60, 90, 75, 65, 77, 62, 63, 80, 72, 74, 69, 73, 81, 78, 88, 82,\n",
              "       83, 84, 85, 86, 87], dtype=int64)"
            ]
          },
          "execution_count": 42,
          "metadata": {},
          "output_type": "execute_result"
        }
      ],
      "source": [
        "df['age'].unique()"
      ]
    },
    {
      "cell_type": "markdown",
      "metadata": {
        "id": "1xY-bL5DC9Wp"
      },
      "source": [
        "#### View the distribution of `age` variable"
      ]
    },
    {
      "cell_type": "code",
      "execution_count": null,
      "metadata": {
        "id": "ndPoZSbpC9Wp",
        "outputId": "0a642bde-6d27-4451-c7e3-28e8ac0038a2"
      },
      "outputs": [
        {
          "data": {
            "image/png": "[encoded data removed]",
            "text/plain": [
              "<Figure size 400x400 with 1 Axes>"
            ]
          },
          "metadata": {},
          "output_type": "display_data"
        }
      ],
      "source": [
        "f, ax = plt.subplots(figsize=(4,4))\n",
        "x = df['age']\n",
        "ax = sns.distplot(x, bins=10, color='blue')  ## used to get the distribution of a numerical variable\n",
        "ax.set_title(\"Distribution of age variable\")\n",
        "plt.show()"
      ]
    },
    {
      "cell_type": "markdown",
      "metadata": {
        "id": "xo6gJoXOC9Wp"
      },
      "source": [
        "We can see that `age` is slightly positively skewed."
      ]
    },
    {
      "cell_type": "markdown",
      "metadata": {
        "id": "WnPIYNWMC9Wp"
      },
      "source": [
        "#### Detect outliers in `age` variable with boxplot"
      ]
    },
    {
      "cell_type": "code",
      "execution_count": null,
      "metadata": {
        "id": "7yaKfHkpC9Wp",
        "outputId": "93cf23de-8ba8-4a12-a168-6e9a7076a0b5"
      },
      "outputs": [
        {
          "data": {
            "image/png": "[encoded data removed]",
            "text/plain": [
              "<Figure size 400x400 with 1 Axes>"
            ]
          },
          "metadata": {},
          "output_type": "display_data"
        }
      ],
      "source": [
        "f, ax = plt.subplots(figsize=(4,4))\n",
        "x = df['age']\n",
        "ax = sns.boxplot(x)\n",
        "ax.set_title(\"Visualize outliers in age variable\")\n",
        "plt.show()"
      ]
    },
    {
      "cell_type": "markdown",
      "metadata": {
        "id": "nz_EPlonC9Wq"
      },
      "source": [
        "We can see that there are lots of outliers in `age` variable."
      ]
    },
    {
      "cell_type": "markdown",
      "metadata": {
        "id": "JAA1MdU3C9Wq"
      },
      "source": [
        "#### Explore relationship between `age` and `income` variables"
      ]
    },
    {
      "cell_type": "code",
      "execution_count": null,
      "metadata": {
        "id": "_kBUSfKAC9Wq",
        "outputId": "be1f1ba7-89ae-4cef-cf5c-55fc8d75f7fb"
      },
      "outputs": [
        {
          "data": {
            "image/png": "[encoded data removed]",
            "text/plain": [
              "<Figure size 400x400 with 1 Axes>"
            ]
          },
          "metadata": {},
          "output_type": "display_data"
        }
      ],
      "source": [
        "f, ax = plt.subplots(figsize=(4, 4))\n",
        "ax = sns.boxplot(x=\"income\", y=\"age\", data=df)\n",
        "ax.set_title(\"Visualize income wrt age variable\")\n",
        "plt.show()"
      ]
    },
    {
      "cell_type": "markdown",
      "metadata": {
        "id": "WO1NTMEfC9Wq"
      },
      "source": [
        "#### Interpretation\n",
        "\n",
        "- As expected, younger people make less money as compared to senior people."
      ]
    },
    {
      "cell_type": "markdown",
      "metadata": {
        "id": "aZLKWsiUC9Wq"
      },
      "source": [
        "#### Visualize `income` wrt `age` and `sex` variable"
      ]
    },
    {
      "cell_type": "code",
      "execution_count": null,
      "metadata": {
        "id": "stgbe9YpC9Wq",
        "outputId": "56a3d06e-b22a-46f0-ca42-f93d8a99b48d"
      },
      "outputs": [
        {
          "data": {
            "image/png": "[encoded data removed]",
            "text/plain": [
              "<Figure size 400x400 with 1 Axes>"
            ]
          },
          "metadata": {},
          "output_type": "display_data"
        }
      ],
      "source": [
        "f, ax = plt.subplots(figsize=(4, 4))\n",
        "ax = sns.boxplot(x=\"income\", y=\"age\", hue=\"sex\", data=df)\n",
        "ax.set_title(\"Visualize income wrt age and sex variable\")\n",
        "ax.legend(loc='upper right')\n",
        "plt.show()"
      ]
    },
    {
      "cell_type": "code",
      "execution_count": null,
      "metadata": {
        "id": "PHw205yrC9Wq",
        "outputId": "3a7e57ed-688f-450c-8921-fb1cab859546"
      },
      "outputs": [
        {
          "data": {
            "text/plain": [
              "<Figure size 800x600 with 0 Axes>"
            ]
          },
          "metadata": {},
          "output_type": "display_data"
        },
        {
          "data": {
            "image/png": "[encoded data removed]",
            "text/plain": [
              "<Figure size 1600x800 with 2 Axes>"
            ]
          },
          "metadata": {},
          "output_type": "display_data"
        }
      ],
      "source": [
        "plt.figure(figsize=(8,6))\n",
        "ax = sns.catplot(x=\"income\", y=\"age\", col=\"sex\", data=df, kind=\"box\", height=8, aspect=1)\n",
        "plt.show()"
      ]
    },
    {
      "cell_type": "markdown",
      "metadata": {
        "id": "itCvPcAmC9Wq"
      },
      "source": [
        "#### Interpretation\n",
        "\n",
        "- Senior people make more money than younger people."
      ]
    },
    {
      "cell_type": "markdown",
      "metadata": {
        "id": "RJCo0p0vC9Wq"
      },
      "source": [
        "#### Find out the correlations"
      ]
    },
    {
      "cell_type": "code",
      "execution_count": null,
      "metadata": {
        "id": "VIpb3BJJC9Wq",
        "outputId": "b5afa300-8647-4e79-fd74-8c3074eaf67a"
      },
      "outputs": [
        {
          "data": {
            "text/html": [
              "<style type=\"text/css\">\n",
              "#T_8e6ee_row0_col0, #T_8e6ee_row1_col1, #T_8e6ee_row2_col2 {\n",
              "  background-color: #b40426;\n",
              "  color: #f1f1f1;\n",
              "}\n",
              "#T_8e6ee_row0_col1, #T_8e6ee_row1_col0, #T_8e6ee_row2_col1 {\n",
              "  background-color: #3b4cc0;\n",
              "  color: #f1f1f1;\n",
              "}\n",
              "#T_8e6ee_row0_col2 {\n",
              "  background-color: #7396f5;\n",
              "  color: #f1f1f1;\n",
              "}\n",
              "#T_8e6ee_row1_col2 {\n",
              "  background-color: #7295f4;\n",
              "  color: #f1f1f1;\n",
              "}\n",
              "#T_8e6ee_row2_col0 {\n",
              "  background-color: #3c4ec2;\n",
              "  color: #f1f1f1;\n",
              "}\n",
              "</style>\n",
              "<table id=\"T_8e6ee\">\n",
              "  <thead>\n",
              "    <tr>\n",
              "      <th class=\"blank level0\" >&nbsp;</th>\n",
              "      <th id=\"T_8e6ee_level0_col0\" class=\"col_heading level0 col0\" >age</th>\n",
              "      <th id=\"T_8e6ee_level0_col1\" class=\"col_heading level0 col1\" >hours_per_week</th>\n",
              "      <th id=\"T_8e6ee_level0_col2\" class=\"col_heading level0 col2\" >income</th>\n",
              "    </tr>\n",
              "  </thead>\n",
              "  <tbody>\n",
              "    <tr>\n",
              "      <th id=\"T_8e6ee_level0_row0\" class=\"row_heading level0 row0\" >age</th>\n",
              "      <td id=\"T_8e6ee_row0_col0\" class=\"data row0 col0\" >1.0</td>\n",
              "      <td id=\"T_8e6ee_row0_col1\" class=\"data row0 col1\" >0.06876</td>\n",
              "      <td id=\"T_8e6ee_row0_col2\" class=\"data row0 col2\" >0.234</td>\n",
              "    </tr>\n",
              "    <tr>\n",
              "      <th id=\"T_8e6ee_level0_row1\" class=\"row_heading level0 row1\" >hours_per_week</th>\n",
              "      <td id=\"T_8e6ee_row1_col0\" class=\"data row1 col0\" >0.06876</td>\n",
              "      <td id=\"T_8e6ee_row1_col1\" class=\"data row1 col1\" >1.0</td>\n",
              "      <td id=\"T_8e6ee_row1_col2\" class=\"data row1 col2\" >0.2297</td>\n",
              "    </tr>\n",
              "    <tr>\n",
              "      <th id=\"T_8e6ee_level0_row2\" class=\"row_heading level0 row2\" >income</th>\n",
              "      <td id=\"T_8e6ee_row2_col0\" class=\"data row2 col0\" >0.234</td>\n",
              "      <td id=\"T_8e6ee_row2_col1\" class=\"data row2 col1\" >0.2297</td>\n",
              "      <td id=\"T_8e6ee_row2_col2\" class=\"data row2 col2\" >1.0</td>\n",
              "    </tr>\n",
              "  </tbody>\n",
              "</table>\n"
            ],
            "text/plain": [
              "<pandas.io.formats.style.Styler at 0x1cb1b373e10>"
            ]
          },
          "execution_count": 48,
          "metadata": {},
          "output_type": "execute_result"
        }
      ],
      "source": [
        "# plot correlation heatmap to find out correlations\n",
        "\n",
        "df.corr().style.format(\"{:.4}\").background_gradient(cmap=plt.get_cmap('coolwarm'), axis=1)\n",
        "\n",
        "## if your any 22 independent numerical variables are highly correlated ,\n",
        "##it is better to drop one of such variables to avoid multicollinearity"
      ]
    },
    {
      "cell_type": "markdown",
      "metadata": {
        "id": "H3741KWkC9Wq"
      },
      "source": [
        "#### Interpretation\n",
        "\n",
        "- We can see that there is no strong correlation between variables."
      ]
    },
    {
      "cell_type": "code",
      "execution_count": null,
      "metadata": {
        "id": "EXPC8Bw4C9Wq",
        "outputId": "461b74ee-7651-4689-b154-5a47bb3e5ca5"
      },
      "outputs": [
        {
          "data": {
            "text/html": [
              "<div>\n",
              "<style scoped>\n",
              "    .dataframe tbody tr th:only-of-type {\n",
              "        vertical-align: middle;\n",
              "    }\n",
              "\n",
              "    .dataframe tbody tr th {\n",
              "        vertical-align: top;\n",
              "    }\n",
              "\n",
              "    .dataframe thead th {\n",
              "        text-align: right;\n",
              "    }\n",
              "</style>\n",
              "<table border=\"1\" class=\"dataframe\">\n",
              "  <thead>\n",
              "    <tr style=\"text-align: right;\">\n",
              "      <th></th>\n",
              "      <th>age</th>\n",
              "      <th>education</th>\n",
              "      <th>occupation</th>\n",
              "      <th>sex</th>\n",
              "      <th>hours_per_week</th>\n",
              "      <th>income</th>\n",
              "    </tr>\n",
              "  </thead>\n",
              "  <tbody>\n",
              "    <tr>\n",
              "      <th>0</th>\n",
              "      <td>39</td>\n",
              "      <td>Bachelors</td>\n",
              "      <td>Adm-clerical</td>\n",
              "      <td>Male</td>\n",
              "      <td>40</td>\n",
              "      <td>0</td>\n",
              "    </tr>\n",
              "    <tr>\n",
              "      <th>1</th>\n",
              "      <td>50</td>\n",
              "      <td>Bachelors</td>\n",
              "      <td>Exec-managerial</td>\n",
              "      <td>Male</td>\n",
              "      <td>13</td>\n",
              "      <td>0</td>\n",
              "    </tr>\n",
              "    <tr>\n",
              "      <th>2</th>\n",
              "      <td>38</td>\n",
              "      <td>HS-grad</td>\n",
              "      <td>Handlers-cleaners</td>\n",
              "      <td>Male</td>\n",
              "      <td>40</td>\n",
              "      <td>0</td>\n",
              "    </tr>\n",
              "    <tr>\n",
              "      <th>3</th>\n",
              "      <td>53</td>\n",
              "      <td>11th</td>\n",
              "      <td>Handlers-cleaners</td>\n",
              "      <td>Male</td>\n",
              "      <td>40</td>\n",
              "      <td>0</td>\n",
              "    </tr>\n",
              "    <tr>\n",
              "      <th>4</th>\n",
              "      <td>28</td>\n",
              "      <td>Bachelors</td>\n",
              "      <td>Prof-specialty</td>\n",
              "      <td>Female</td>\n",
              "      <td>40</td>\n",
              "      <td>0</td>\n",
              "    </tr>\n",
              "  </tbody>\n",
              "</table>\n",
              "</div>"
            ],
            "text/plain": [
              "   age   education          occupation      sex  hours_per_week  income\n",
              "0   39   Bachelors        Adm-clerical     Male              40       0\n",
              "1   50   Bachelors     Exec-managerial     Male              13       0\n",
              "2   38     HS-grad   Handlers-cleaners     Male              40       0\n",
              "3   53        11th   Handlers-cleaners     Male              40       0\n",
              "4   28   Bachelors      Prof-specialty   Female              40       0"
            ]
          },
          "execution_count": 49,
          "metadata": {},
          "output_type": "execute_result"
        }
      ],
      "source": [
        "df.head()"
      ]
    },
    {
      "cell_type": "code",
      "execution_count": null,
      "metadata": {
        "id": "kCRz8XRYC9Wq",
        "outputId": "32eacdfc-90ac-49e1-b3af-dbca9c333b3b"
      },
      "outputs": [
        {
          "data": {
            "text/plain": [
              "age               0\n",
              "education         0\n",
              "occupation        0\n",
              "sex               0\n",
              "hours_per_week    0\n",
              "income            0\n",
              "dtype: int64"
            ]
          },
          "execution_count": 13,
          "metadata": {},
          "output_type": "execute_result"
        }
      ],
      "source": [
        "df.isna().sum()"
      ]
    },
    {
      "cell_type": "markdown",
      "metadata": {
        "id": "rs4VCKPyC9Wr"
      },
      "source": [
        "## TREATING MISSING VALUE"
      ]
    },
    {
      "cell_type": "code",
      "execution_count": null,
      "metadata": {
        "id": "poQMk9M9C9Wr"
      },
      "outputs": [],
      "source": [
        "# impute missing categorical variables with most frequent value :\n",
        "\n",
        "df['occupation'].fillna(df['occupation'].mode()[0], inplace=True)"
      ]
    },
    {
      "cell_type": "code",
      "execution_count": null,
      "metadata": {
        "id": "bZG6HxFPC9Wr",
        "outputId": "1b3d208a-76b6-4f48-f9ab-e3ef637c3280"
      },
      "outputs": [
        {
          "data": {
            "text/plain": [
              "age               0\n",
              "education         0\n",
              "occupation        0\n",
              "sex               0\n",
              "hours_per_week    0\n",
              "income            0\n",
              "dtype: int64"
            ]
          },
          "execution_count": 52,
          "metadata": {},
          "output_type": "execute_result"
        }
      ],
      "source": [
        "df.isna().sum()"
      ]
    },
    {
      "cell_type": "code",
      "execution_count": null,
      "metadata": {
        "id": "6NVYcZ3TC9Wr",
        "outputId": "d3cb1e03-b5e2-42d1-ae1b-f5cf4128a3eb"
      },
      "outputs": [
        {
          "data": {
            "text/html": [
              "<div>\n",
              "<style scoped>\n",
              "    .dataframe tbody tr th:only-of-type {\n",
              "        vertical-align: middle;\n",
              "    }\n",
              "\n",
              "    .dataframe tbody tr th {\n",
              "        vertical-align: top;\n",
              "    }\n",
              "\n",
              "    .dataframe thead th {\n",
              "        text-align: right;\n",
              "    }\n",
              "</style>\n",
              "<table border=\"1\" class=\"dataframe\">\n",
              "  <thead>\n",
              "    <tr style=\"text-align: right;\">\n",
              "      <th></th>\n",
              "      <th>age</th>\n",
              "      <th>education</th>\n",
              "      <th>occupation</th>\n",
              "      <th>sex</th>\n",
              "      <th>hours_per_week</th>\n",
              "      <th>income</th>\n",
              "    </tr>\n",
              "  </thead>\n",
              "  <tbody>\n",
              "    <tr>\n",
              "      <th>0</th>\n",
              "      <td>39</td>\n",
              "      <td>Bachelors</td>\n",
              "      <td>Adm-clerical</td>\n",
              "      <td>Male</td>\n",
              "      <td>40</td>\n",
              "      <td>0</td>\n",
              "    </tr>\n",
              "    <tr>\n",
              "      <th>1</th>\n",
              "      <td>50</td>\n",
              "      <td>Bachelors</td>\n",
              "      <td>Exec-managerial</td>\n",
              "      <td>Male</td>\n",
              "      <td>13</td>\n",
              "      <td>0</td>\n",
              "    </tr>\n",
              "    <tr>\n",
              "      <th>2</th>\n",
              "      <td>38</td>\n",
              "      <td>HS-grad</td>\n",
              "      <td>Handlers-cleaners</td>\n",
              "      <td>Male</td>\n",
              "      <td>40</td>\n",
              "      <td>0</td>\n",
              "    </tr>\n",
              "    <tr>\n",
              "      <th>3</th>\n",
              "      <td>53</td>\n",
              "      <td>11th</td>\n",
              "      <td>Handlers-cleaners</td>\n",
              "      <td>Male</td>\n",
              "      <td>40</td>\n",
              "      <td>0</td>\n",
              "    </tr>\n",
              "    <tr>\n",
              "      <th>4</th>\n",
              "      <td>28</td>\n",
              "      <td>Bachelors</td>\n",
              "      <td>Prof-specialty</td>\n",
              "      <td>Female</td>\n",
              "      <td>40</td>\n",
              "      <td>0</td>\n",
              "    </tr>\n",
              "  </tbody>\n",
              "</table>\n",
              "</div>"
            ],
            "text/plain": [
              "   age   education          occupation      sex  hours_per_week  income\n",
              "0   39   Bachelors        Adm-clerical     Male              40       0\n",
              "1   50   Bachelors     Exec-managerial     Male              13       0\n",
              "2   38     HS-grad   Handlers-cleaners     Male              40       0\n",
              "3   53        11th   Handlers-cleaners     Male              40       0\n",
              "4   28   Bachelors      Prof-specialty   Female              40       0"
            ]
          },
          "execution_count": 53,
          "metadata": {},
          "output_type": "execute_result"
        }
      ],
      "source": [
        "df.head()"
      ]
    },
    {
      "cell_type": "markdown",
      "metadata": {
        "id": "j6QOyukcC9Wr"
      },
      "source": [
        "## CATEGORICAL VARIABLES ENCODING"
      ]
    },
    {
      "cell_type": "code",
      "execution_count": null,
      "metadata": {
        "id": "BldvBCzvC9Wr",
        "outputId": "0485e3f5-bc85-416e-b23d-4127a17f7711"
      },
      "outputs": [
        {
          "data": {
            "text/html": [
              "<div>\n",
              "<style scoped>\n",
              "    .dataframe tbody tr th:only-of-type {\n",
              "        vertical-align: middle;\n",
              "    }\n",
              "\n",
              "    .dataframe tbody tr th {\n",
              "        vertical-align: top;\n",
              "    }\n",
              "\n",
              "    .dataframe thead th {\n",
              "        text-align: right;\n",
              "    }\n",
              "</style>\n",
              "<table border=\"1\" class=\"dataframe\">\n",
              "  <thead>\n",
              "    <tr style=\"text-align: right;\">\n",
              "      <th></th>\n",
              "      <th>age</th>\n",
              "      <th>education</th>\n",
              "      <th>occupation</th>\n",
              "      <th>sex</th>\n",
              "      <th>hours_per_week</th>\n",
              "      <th>income</th>\n",
              "    </tr>\n",
              "  </thead>\n",
              "  <tbody>\n",
              "    <tr>\n",
              "      <th>0</th>\n",
              "      <td>39</td>\n",
              "      <td>Bachelors</td>\n",
              "      <td>Adm-clerical</td>\n",
              "      <td>Male</td>\n",
              "      <td>40</td>\n",
              "      <td>0</td>\n",
              "    </tr>\n",
              "    <tr>\n",
              "      <th>1</th>\n",
              "      <td>50</td>\n",
              "      <td>Bachelors</td>\n",
              "      <td>Exec-managerial</td>\n",
              "      <td>Male</td>\n",
              "      <td>13</td>\n",
              "      <td>0</td>\n",
              "    </tr>\n",
              "    <tr>\n",
              "      <th>2</th>\n",
              "      <td>38</td>\n",
              "      <td>HS-grad</td>\n",
              "      <td>Handlers-cleaners</td>\n",
              "      <td>Male</td>\n",
              "      <td>40</td>\n",
              "      <td>0</td>\n",
              "    </tr>\n",
              "    <tr>\n",
              "      <th>3</th>\n",
              "      <td>53</td>\n",
              "      <td>11th</td>\n",
              "      <td>Handlers-cleaners</td>\n",
              "      <td>Male</td>\n",
              "      <td>40</td>\n",
              "      <td>0</td>\n",
              "    </tr>\n",
              "    <tr>\n",
              "      <th>4</th>\n",
              "      <td>28</td>\n",
              "      <td>Bachelors</td>\n",
              "      <td>Prof-specialty</td>\n",
              "      <td>Female</td>\n",
              "      <td>40</td>\n",
              "      <td>0</td>\n",
              "    </tr>\n",
              "  </tbody>\n",
              "</table>\n",
              "</div>"
            ],
            "text/plain": [
              "   age   education          occupation      sex  hours_per_week  income\n",
              "0   39   Bachelors        Adm-clerical     Male              40       0\n",
              "1   50   Bachelors     Exec-managerial     Male              13       0\n",
              "2   38     HS-grad   Handlers-cleaners     Male              40       0\n",
              "3   53        11th   Handlers-cleaners     Male              40       0\n",
              "4   28   Bachelors      Prof-specialty   Female              40       0"
            ]
          },
          "execution_count": 15,
          "metadata": {},
          "output_type": "execute_result"
        }
      ],
      "source": [
        "df.head()"
      ]
    },
    {
      "cell_type": "code",
      "execution_count": null,
      "metadata": {
        "id": "nkVemMSCC9Wr",
        "outputId": "3dc565a2-d6a9-4de7-d43f-93bddcd0ea03"
      },
      "outputs": [
        {
          "data": {
            "text/html": [
              "<div>\n",
              "<style scoped>\n",
              "    .dataframe tbody tr th:only-of-type {\n",
              "        vertical-align: middle;\n",
              "    }\n",
              "\n",
              "    .dataframe tbody tr th {\n",
              "        vertical-align: top;\n",
              "    }\n",
              "\n",
              "    .dataframe thead th {\n",
              "        text-align: right;\n",
              "    }\n",
              "</style>\n",
              "<table border=\"1\" class=\"dataframe\">\n",
              "  <thead>\n",
              "    <tr style=\"text-align: right;\">\n",
              "      <th></th>\n",
              "      <th>age</th>\n",
              "      <th>education</th>\n",
              "      <th>occupation</th>\n",
              "      <th>sex</th>\n",
              "      <th>hours_per_week</th>\n",
              "      <th>income</th>\n",
              "    </tr>\n",
              "  </thead>\n",
              "  <tbody>\n",
              "    <tr>\n",
              "      <th>32556</th>\n",
              "      <td>27</td>\n",
              "      <td>7</td>\n",
              "      <td>12</td>\n",
              "      <td>0</td>\n",
              "      <td>38</td>\n",
              "      <td>0</td>\n",
              "    </tr>\n",
              "    <tr>\n",
              "      <th>32557</th>\n",
              "      <td>40</td>\n",
              "      <td>11</td>\n",
              "      <td>6</td>\n",
              "      <td>1</td>\n",
              "      <td>40</td>\n",
              "      <td>1</td>\n",
              "    </tr>\n",
              "    <tr>\n",
              "      <th>32558</th>\n",
              "      <td>58</td>\n",
              "      <td>11</td>\n",
              "      <td>0</td>\n",
              "      <td>0</td>\n",
              "      <td>40</td>\n",
              "      <td>0</td>\n",
              "    </tr>\n",
              "    <tr>\n",
              "      <th>32559</th>\n",
              "      <td>22</td>\n",
              "      <td>11</td>\n",
              "      <td>0</td>\n",
              "      <td>1</td>\n",
              "      <td>20</td>\n",
              "      <td>0</td>\n",
              "    </tr>\n",
              "    <tr>\n",
              "      <th>32560</th>\n",
              "      <td>52</td>\n",
              "      <td>11</td>\n",
              "      <td>3</td>\n",
              "      <td>0</td>\n",
              "      <td>40</td>\n",
              "      <td>1</td>\n",
              "    </tr>\n",
              "  </tbody>\n",
              "</table>\n",
              "</div>"
            ],
            "text/plain": [
              "       age  education  occupation  sex  hours_per_week  income\n",
              "32556   27          7          12    0              38       0\n",
              "32557   40         11           6    1              40       1\n",
              "32558   58         11           0    0              40       0\n",
              "32559   22         11           0    1              20       0\n",
              "32560   52         11           3    0              40       1"
            ]
          },
          "execution_count": 16,
          "metadata": {},
          "output_type": "execute_result"
        }
      ],
      "source": [
        "# Initialize LabelEncoder\n",
        "from sklearn.preprocessing import LabelEncoder\n",
        "label_encoder = LabelEncoder()\n",
        "\n",
        "# Perform label encoding\n",
        "df['education'] = label_encoder.fit_transform(df['education'])\n",
        "df['occupation'] = label_encoder.fit_transform(df['occupation'])\n",
        "df['sex'] = label_encoder.fit_transform(df['sex'])\n",
        "df.tail()"
      ]
    },
    {
      "cell_type": "code",
      "execution_count": null,
      "metadata": {
        "id": "5HyFwK7zC9Wr"
      },
      "outputs": [],
      "source": [
        "df.to_csv(\"dataset.csv\")"
      ]
    },
    {
      "cell_type": "code",
      "execution_count": null,
      "metadata": {
        "id": "2V3BAhlIC9Wr",
        "outputId": "c9fdc092-2ec2-4a80-cf3d-2bad7a0a4542"
      },
      "outputs": [
        {
          "ename": "ModuleNotFoundError",
          "evalue": "No module named 'category_encoders'",
          "output_type": "error",
          "traceback": [
            "\u001b[1;31m---------------------------------------------------------------------------\u001b[0m",
            "\u001b[1;31mModuleNotFoundError\u001b[0m                       Traceback (most recent call last)",
            "Cell \u001b[1;32mIn[14], line 4\u001b[0m\n\u001b[0;32m      1\u001b[0m \u001b[38;5;66;03m# import category encoders\u001b[39;00m\n\u001b[0;32m      2\u001b[0m \u001b[38;5;66;03m## mapping , ohe , label encoder \u001b[39;00m\n\u001b[1;32m----> 4\u001b[0m \u001b[38;5;28;01mimport\u001b[39;00m \u001b[38;5;21;01mcategory_encoders\u001b[39;00m \u001b[38;5;28;01mas\u001b[39;00m \u001b[38;5;21;01mce\u001b[39;00m\n\u001b[0;32m      5\u001b[0m \u001b[38;5;66;03m# encode categorical variables with one-hot encoding\u001b[39;00m\n\u001b[0;32m      7\u001b[0m encoder \u001b[38;5;241m=\u001b[39m ce\u001b[38;5;241m.\u001b[39mOneHotEncoder(cols\u001b[38;5;241m=\u001b[39m[ \u001b[38;5;124m'\u001b[39m\u001b[38;5;124meducation\u001b[39m\u001b[38;5;124m'\u001b[39m, \u001b[38;5;124m'\u001b[39m\u001b[38;5;124moccupation\u001b[39m\u001b[38;5;124m'\u001b[39m, \u001b[38;5;124m'\u001b[39m\u001b[38;5;124msex\u001b[39m\u001b[38;5;124m'\u001b[39m])\n",
            "\u001b[1;31mModuleNotFoundError\u001b[0m: No module named 'category_encoders'"
          ]
        }
      ],
      "source": [
        "# import category encoders\n",
        "## mapping , ohe , label encoder\n",
        "\n",
        "import category_encoders as ce\n",
        "# encode categorical variables with one-hot encoding\n",
        "\n",
        "encoder = ce.OneHotEncoder(cols=[ 'education', 'occupation', 'sex'])\n",
        "\n",
        "df = encoder.fit_transform(df)\n",
        "df.head()"
      ]
    },
    {
      "cell_type": "code",
      "execution_count": null,
      "metadata": {
        "id": "8Pb1sHMbC9Wr"
      },
      "outputs": [],
      "source": []
    },
    {
      "cell_type": "markdown",
      "metadata": {
        "id": "uqc1Q8xNC9Wr"
      },
      "source": [
        "## 7. Declare feature vector and target variable <a class=\"anchor\" id=\"7\"></a>\n",
        "\n",
        "[Back to Table of Contents](#0.1)"
      ]
    },
    {
      "cell_type": "code",
      "execution_count": null,
      "metadata": {
        "id": "JLQnnMUSC9Wr"
      },
      "outputs": [],
      "source": [
        "X = df.drop(['income'], axis=1) ## independent variable\n",
        "\n",
        "y = df['income']  ## dependent or target -- trying to predict"
      ]
    },
    {
      "cell_type": "markdown",
      "metadata": {
        "id": "v55vprqGC9Wr"
      },
      "source": [
        "## 8. Split data into separate training and test set <a class=\"anchor\" id=\"8\"></a>\n",
        "\n",
        "[Back to Table of Contents](#0.1)"
      ]
    },
    {
      "cell_type": "code",
      "execution_count": null,
      "metadata": {
        "id": "ckCdcIz0C9Wr"
      },
      "outputs": [],
      "source": [
        "from sklearn.model_selection import train_test_split\n",
        "\n",
        "X_train, X_test, y_train, y_test = train_test_split(X, y, test_size = 0.3, random_state = 0)"
      ]
    },
    {
      "cell_type": "code",
      "execution_count": null,
      "metadata": {
        "id": "iQmuz5yMC9Wr",
        "outputId": "3bb8af05-9d71-4d4c-9afc-f076d9e7f2be"
      },
      "outputs": [
        {
          "data": {
            "text/plain": [
              "((22792, 34), (9769, 34), (22792,), (9769,))"
            ]
          },
          "execution_count": 59,
          "metadata": {},
          "output_type": "execute_result"
        }
      ],
      "source": [
        "# check the shape of X_train and X_test\n",
        "\n",
        "X_train.shape, X_test.shape, y_train.shape,y_test.shape"
      ]
    },
    {
      "cell_type": "code",
      "execution_count": null,
      "metadata": {
        "id": "GEpCtvRBC9Ws",
        "outputId": "53be6ecf-d701-41cd-b27f-0e8a3f338d7c"
      },
      "outputs": [
        {
          "data": {
            "text/html": [
              "<div>\n",
              "<style scoped>\n",
              "    .dataframe tbody tr th:only-of-type {\n",
              "        vertical-align: middle;\n",
              "    }\n",
              "\n",
              "    .dataframe tbody tr th {\n",
              "        vertical-align: top;\n",
              "    }\n",
              "\n",
              "    .dataframe thead th {\n",
              "        text-align: right;\n",
              "    }\n",
              "</style>\n",
              "<table border=\"1\" class=\"dataframe\">\n",
              "  <thead>\n",
              "    <tr style=\"text-align: right;\">\n",
              "      <th></th>\n",
              "      <th>age</th>\n",
              "      <th>education_1</th>\n",
              "      <th>education_2</th>\n",
              "      <th>education_3</th>\n",
              "      <th>education_4</th>\n",
              "      <th>education_5</th>\n",
              "      <th>education_6</th>\n",
              "      <th>education_7</th>\n",
              "      <th>education_8</th>\n",
              "      <th>education_9</th>\n",
              "      <th>...</th>\n",
              "      <th>occupation_8</th>\n",
              "      <th>occupation_9</th>\n",
              "      <th>occupation_10</th>\n",
              "      <th>occupation_11</th>\n",
              "      <th>occupation_12</th>\n",
              "      <th>occupation_13</th>\n",
              "      <th>occupation_14</th>\n",
              "      <th>sex_1</th>\n",
              "      <th>sex_2</th>\n",
              "      <th>hours_per_week</th>\n",
              "    </tr>\n",
              "  </thead>\n",
              "  <tbody>\n",
              "    <tr>\n",
              "      <th>22278</th>\n",
              "      <td>27</td>\n",
              "      <td>0</td>\n",
              "      <td>0</td>\n",
              "      <td>0</td>\n",
              "      <td>0</td>\n",
              "      <td>0</td>\n",
              "      <td>1</td>\n",
              "      <td>0</td>\n",
              "      <td>0</td>\n",
              "      <td>0</td>\n",
              "      <td>...</td>\n",
              "      <td>0</td>\n",
              "      <td>0</td>\n",
              "      <td>0</td>\n",
              "      <td>0</td>\n",
              "      <td>0</td>\n",
              "      <td>0</td>\n",
              "      <td>0</td>\n",
              "      <td>0</td>\n",
              "      <td>1</td>\n",
              "      <td>44</td>\n",
              "    </tr>\n",
              "    <tr>\n",
              "      <th>8950</th>\n",
              "      <td>27</td>\n",
              "      <td>1</td>\n",
              "      <td>0</td>\n",
              "      <td>0</td>\n",
              "      <td>0</td>\n",
              "      <td>0</td>\n",
              "      <td>0</td>\n",
              "      <td>0</td>\n",
              "      <td>0</td>\n",
              "      <td>0</td>\n",
              "      <td>...</td>\n",
              "      <td>0</td>\n",
              "      <td>0</td>\n",
              "      <td>0</td>\n",
              "      <td>0</td>\n",
              "      <td>0</td>\n",
              "      <td>0</td>\n",
              "      <td>0</td>\n",
              "      <td>0</td>\n",
              "      <td>1</td>\n",
              "      <td>40</td>\n",
              "    </tr>\n",
              "    <tr>\n",
              "      <th>7838</th>\n",
              "      <td>25</td>\n",
              "      <td>0</td>\n",
              "      <td>0</td>\n",
              "      <td>0</td>\n",
              "      <td>0</td>\n",
              "      <td>0</td>\n",
              "      <td>0</td>\n",
              "      <td>1</td>\n",
              "      <td>0</td>\n",
              "      <td>0</td>\n",
              "      <td>...</td>\n",
              "      <td>0</td>\n",
              "      <td>0</td>\n",
              "      <td>0</td>\n",
              "      <td>0</td>\n",
              "      <td>0</td>\n",
              "      <td>0</td>\n",
              "      <td>0</td>\n",
              "      <td>1</td>\n",
              "      <td>0</td>\n",
              "      <td>40</td>\n",
              "    </tr>\n",
              "    <tr>\n",
              "      <th>16505</th>\n",
              "      <td>46</td>\n",
              "      <td>0</td>\n",
              "      <td>0</td>\n",
              "      <td>0</td>\n",
              "      <td>0</td>\n",
              "      <td>0</td>\n",
              "      <td>0</td>\n",
              "      <td>0</td>\n",
              "      <td>0</td>\n",
              "      <td>0</td>\n",
              "      <td>...</td>\n",
              "      <td>1</td>\n",
              "      <td>0</td>\n",
              "      <td>0</td>\n",
              "      <td>0</td>\n",
              "      <td>0</td>\n",
              "      <td>0</td>\n",
              "      <td>0</td>\n",
              "      <td>1</td>\n",
              "      <td>0</td>\n",
              "      <td>40</td>\n",
              "    </tr>\n",
              "    <tr>\n",
              "      <th>19140</th>\n",
              "      <td>45</td>\n",
              "      <td>0</td>\n",
              "      <td>0</td>\n",
              "      <td>1</td>\n",
              "      <td>0</td>\n",
              "      <td>0</td>\n",
              "      <td>0</td>\n",
              "      <td>0</td>\n",
              "      <td>0</td>\n",
              "      <td>0</td>\n",
              "      <td>...</td>\n",
              "      <td>1</td>\n",
              "      <td>0</td>\n",
              "      <td>0</td>\n",
              "      <td>0</td>\n",
              "      <td>0</td>\n",
              "      <td>0</td>\n",
              "      <td>0</td>\n",
              "      <td>1</td>\n",
              "      <td>0</td>\n",
              "      <td>76</td>\n",
              "    </tr>\n",
              "  </tbody>\n",
              "</table>\n",
              "<p>5 rows × 34 columns</p>\n",
              "</div>"
            ],
            "text/plain": [
              "       age  education_1  education_2  education_3  education_4  education_5  \\\n",
              "22278   27            0            0            0            0            0   \n",
              "8950    27            1            0            0            0            0   \n",
              "7838    25            0            0            0            0            0   \n",
              "16505   46            0            0            0            0            0   \n",
              "19140   45            0            0            1            0            0   \n",
              "\n",
              "       education_6  education_7  education_8  education_9  ...  occupation_8  \\\n",
              "22278            1            0            0            0  ...             0   \n",
              "8950             0            0            0            0  ...             0   \n",
              "7838             0            1            0            0  ...             0   \n",
              "16505            0            0            0            0  ...             1   \n",
              "19140            0            0            0            0  ...             1   \n",
              "\n",
              "       occupation_9  occupation_10  occupation_11  occupation_12  \\\n",
              "22278             0              0              0              0   \n",
              "8950              0              0              0              0   \n",
              "7838              0              0              0              0   \n",
              "16505             0              0              0              0   \n",
              "19140             0              0              0              0   \n",
              "\n",
              "       occupation_13  occupation_14  sex_1  sex_2  hours_per_week  \n",
              "22278              0              0      0      1              44  \n",
              "8950               0              0      0      1              40  \n",
              "7838               0              0      1      0              40  \n",
              "16505              0              0      1      0              40  \n",
              "19140              0              0      1      0              76  \n",
              "\n",
              "[5 rows x 34 columns]"
            ]
          },
          "execution_count": 61,
          "metadata": {},
          "output_type": "execute_result"
        }
      ],
      "source": [
        "X_test.head()"
      ]
    },
    {
      "cell_type": "markdown",
      "metadata": {
        "id": "LMpMPN3AC9Ws"
      },
      "source": [
        "## 9. Feature Engineering  <a class=\"anchor\" id=\"9\"></a>\n",
        "\n",
        "\n",
        "[Back to Table of Contents](#0.1)\n",
        "\n",
        "\n",
        "- **Feature Engineering** is the process of transforming raw data into useful features that help us to understand our model better and increase its predictive power.\n",
        "\n",
        "- I will carry out feature engineering on different types of variables.\n",
        "\n",
        "- First, I will display the categorical and numerical variables in training set separately."
      ]
    },
    {
      "cell_type": "markdown",
      "metadata": {
        "id": "KH61ZwfsC9Ws"
      },
      "source": [
        "* We now have training and testing set ready for model building. Before that, we should map all the feature variables onto the same scale. It is called **feature scaling**. We will do it as follows."
      ]
    },
    {
      "cell_type": "markdown",
      "metadata": {
        "id": "XJv6qL_6C9Ws"
      },
      "source": [
        "## 10. Feature Scaling <a class=\"anchor\" id=\"10\"></a>\n",
        "\n",
        "[Back to Table of Contents](#0.1)"
      ]
    },
    {
      "cell_type": "code",
      "execution_count": null,
      "metadata": {
        "id": "LsfdIqlEC9Ws",
        "outputId": "0f427099-b2a2-43f4-babb-5ee44698e9ac"
      },
      "outputs": [
        {
          "data": {
            "text/plain": [
              "Index(['age', 'education_1', 'education_2', 'education_3', 'education_4',\n",
              "       'education_5', 'education_6', 'education_7', 'education_8',\n",
              "       'education_9', 'education_10', 'education_11', 'education_12',\n",
              "       'education_13', 'education_14', 'education_15', 'education_16',\n",
              "       'occupation_1', 'occupation_2', 'occupation_3', 'occupation_4',\n",
              "       'occupation_5', 'occupation_6', 'occupation_7', 'occupation_8',\n",
              "       'occupation_9', 'occupation_10', 'occupation_11', 'occupation_12',\n",
              "       'occupation_13', 'occupation_14', 'sex_1', 'sex_2', 'hours_per_week'],\n",
              "      dtype='object')"
            ]
          },
          "execution_count": 62,
          "metadata": {},
          "output_type": "execute_result"
        }
      ],
      "source": [
        "cols = X_train.columns\n",
        "cols"
      ]
    },
    {
      "cell_type": "code",
      "execution_count": null,
      "metadata": {
        "id": "fbdV_oo_C9Ws"
      },
      "outputs": [],
      "source": [
        "from sklearn.preprocessing import RobustScaler\n",
        "\n",
        "scaler = RobustScaler()\n",
        "\n",
        "X_train = scaler.fit_transform(X_train)\n",
        "\n",
        "X_test = scaler.transform(X_test)"
      ]
    },
    {
      "cell_type": "code",
      "execution_count": null,
      "metadata": {
        "id": "N_cMUbA2C9Ws"
      },
      "outputs": [],
      "source": [
        "X_train = pd.DataFrame(X_train, columns=[cols])"
      ]
    },
    {
      "cell_type": "code",
      "execution_count": null,
      "metadata": {
        "id": "KDyAhagfC9Ws"
      },
      "outputs": [],
      "source": [
        "X_test = pd.DataFrame(X_test, columns=[cols])"
      ]
    },
    {
      "cell_type": "code",
      "execution_count": null,
      "metadata": {
        "id": "2gXZho9gC9Ws",
        "outputId": "630f4f92-b4f2-4624-fb0b-49abc7a3f7c3"
      },
      "outputs": [
        {
          "data": {
            "text/plain": [
              "((22792, 34), (22792,), (9769, 34), (9769,))"
            ]
          },
          "execution_count": 66,
          "metadata": {},
          "output_type": "execute_result"
        }
      ],
      "source": [
        "X_train.shape,y_train.shape,X_test.shape,y_test.shape"
      ]
    },
    {
      "cell_type": "code",
      "execution_count": null,
      "metadata": {
        "id": "JgPTiDNJC9Ws",
        "outputId": "a3b027ae-9351-4c95-92a1-760d4fa0f42a"
      },
      "outputs": [
        {
          "data": {
            "text/html": [
              "<div>\n",
              "<style scoped>\n",
              "    .dataframe tbody tr th:only-of-type {\n",
              "        vertical-align: middle;\n",
              "    }\n",
              "\n",
              "    .dataframe tbody tr th {\n",
              "        vertical-align: top;\n",
              "    }\n",
              "\n",
              "    .dataframe thead tr th {\n",
              "        text-align: left;\n",
              "    }\n",
              "</style>\n",
              "<table border=\"1\" class=\"dataframe\">\n",
              "  <thead>\n",
              "    <tr>\n",
              "      <th></th>\n",
              "      <th>age</th>\n",
              "      <th>education_1</th>\n",
              "      <th>education_2</th>\n",
              "      <th>education_3</th>\n",
              "      <th>education_4</th>\n",
              "      <th>education_5</th>\n",
              "      <th>education_6</th>\n",
              "      <th>education_7</th>\n",
              "      <th>education_8</th>\n",
              "      <th>education_9</th>\n",
              "      <th>...</th>\n",
              "      <th>occupation_8</th>\n",
              "      <th>occupation_9</th>\n",
              "      <th>occupation_10</th>\n",
              "      <th>occupation_11</th>\n",
              "      <th>occupation_12</th>\n",
              "      <th>occupation_13</th>\n",
              "      <th>occupation_14</th>\n",
              "      <th>sex_1</th>\n",
              "      <th>sex_2</th>\n",
              "      <th>hours_per_week</th>\n",
              "    </tr>\n",
              "  </thead>\n",
              "  <tbody>\n",
              "    <tr>\n",
              "      <th>0</th>\n",
              "      <td>-0.50</td>\n",
              "      <td>0.0</td>\n",
              "      <td>0.0</td>\n",
              "      <td>0.0</td>\n",
              "      <td>0.0</td>\n",
              "      <td>0.0</td>\n",
              "      <td>1.0</td>\n",
              "      <td>0.0</td>\n",
              "      <td>0.0</td>\n",
              "      <td>0.0</td>\n",
              "      <td>...</td>\n",
              "      <td>0.0</td>\n",
              "      <td>0.0</td>\n",
              "      <td>0.0</td>\n",
              "      <td>0.0</td>\n",
              "      <td>0.0</td>\n",
              "      <td>0.0</td>\n",
              "      <td>0.0</td>\n",
              "      <td>-1.0</td>\n",
              "      <td>1.0</td>\n",
              "      <td>0.8</td>\n",
              "    </tr>\n",
              "    <tr>\n",
              "      <th>1</th>\n",
              "      <td>-0.50</td>\n",
              "      <td>1.0</td>\n",
              "      <td>0.0</td>\n",
              "      <td>0.0</td>\n",
              "      <td>0.0</td>\n",
              "      <td>0.0</td>\n",
              "      <td>0.0</td>\n",
              "      <td>0.0</td>\n",
              "      <td>0.0</td>\n",
              "      <td>0.0</td>\n",
              "      <td>...</td>\n",
              "      <td>0.0</td>\n",
              "      <td>0.0</td>\n",
              "      <td>0.0</td>\n",
              "      <td>0.0</td>\n",
              "      <td>0.0</td>\n",
              "      <td>0.0</td>\n",
              "      <td>0.0</td>\n",
              "      <td>-1.0</td>\n",
              "      <td>1.0</td>\n",
              "      <td>0.0</td>\n",
              "    </tr>\n",
              "    <tr>\n",
              "      <th>2</th>\n",
              "      <td>-0.60</td>\n",
              "      <td>0.0</td>\n",
              "      <td>0.0</td>\n",
              "      <td>0.0</td>\n",
              "      <td>0.0</td>\n",
              "      <td>0.0</td>\n",
              "      <td>0.0</td>\n",
              "      <td>1.0</td>\n",
              "      <td>0.0</td>\n",
              "      <td>0.0</td>\n",
              "      <td>...</td>\n",
              "      <td>0.0</td>\n",
              "      <td>0.0</td>\n",
              "      <td>0.0</td>\n",
              "      <td>0.0</td>\n",
              "      <td>0.0</td>\n",
              "      <td>0.0</td>\n",
              "      <td>0.0</td>\n",
              "      <td>0.0</td>\n",
              "      <td>0.0</td>\n",
              "      <td>0.0</td>\n",
              "    </tr>\n",
              "    <tr>\n",
              "      <th>3</th>\n",
              "      <td>0.45</td>\n",
              "      <td>0.0</td>\n",
              "      <td>0.0</td>\n",
              "      <td>0.0</td>\n",
              "      <td>0.0</td>\n",
              "      <td>0.0</td>\n",
              "      <td>0.0</td>\n",
              "      <td>0.0</td>\n",
              "      <td>0.0</td>\n",
              "      <td>0.0</td>\n",
              "      <td>...</td>\n",
              "      <td>1.0</td>\n",
              "      <td>0.0</td>\n",
              "      <td>0.0</td>\n",
              "      <td>0.0</td>\n",
              "      <td>0.0</td>\n",
              "      <td>0.0</td>\n",
              "      <td>0.0</td>\n",
              "      <td>0.0</td>\n",
              "      <td>0.0</td>\n",
              "      <td>0.0</td>\n",
              "    </tr>\n",
              "    <tr>\n",
              "      <th>4</th>\n",
              "      <td>0.40</td>\n",
              "      <td>0.0</td>\n",
              "      <td>0.0</td>\n",
              "      <td>1.0</td>\n",
              "      <td>0.0</td>\n",
              "      <td>0.0</td>\n",
              "      <td>0.0</td>\n",
              "      <td>0.0</td>\n",
              "      <td>0.0</td>\n",
              "      <td>0.0</td>\n",
              "      <td>...</td>\n",
              "      <td>1.0</td>\n",
              "      <td>0.0</td>\n",
              "      <td>0.0</td>\n",
              "      <td>0.0</td>\n",
              "      <td>0.0</td>\n",
              "      <td>0.0</td>\n",
              "      <td>0.0</td>\n",
              "      <td>0.0</td>\n",
              "      <td>0.0</td>\n",
              "      <td>7.2</td>\n",
              "    </tr>\n",
              "  </tbody>\n",
              "</table>\n",
              "<p>5 rows × 34 columns</p>\n",
              "</div>"
            ],
            "text/plain": [
              "    age education_1 education_2 education_3 education_4 education_5  \\\n",
              "0 -0.50         0.0         0.0         0.0         0.0         0.0   \n",
              "1 -0.50         1.0         0.0         0.0         0.0         0.0   \n",
              "2 -0.60         0.0         0.0         0.0         0.0         0.0   \n",
              "3  0.45         0.0         0.0         0.0         0.0         0.0   \n",
              "4  0.40         0.0         0.0         1.0         0.0         0.0   \n",
              "\n",
              "  education_6 education_7 education_8 education_9  ... occupation_8  \\\n",
              "0         1.0         0.0         0.0         0.0  ...          0.0   \n",
              "1         0.0         0.0         0.0         0.0  ...          0.0   \n",
              "2         0.0         1.0         0.0         0.0  ...          0.0   \n",
              "3         0.0         0.0         0.0         0.0  ...          1.0   \n",
              "4         0.0         0.0         0.0         0.0  ...          1.0   \n",
              "\n",
              "  occupation_9 occupation_10 occupation_11 occupation_12 occupation_13  \\\n",
              "0          0.0           0.0           0.0           0.0           0.0   \n",
              "1          0.0           0.0           0.0           0.0           0.0   \n",
              "2          0.0           0.0           0.0           0.0           0.0   \n",
              "3          0.0           0.0           0.0           0.0           0.0   \n",
              "4          0.0           0.0           0.0           0.0           0.0   \n",
              "\n",
              "  occupation_14 sex_1 sex_2 hours_per_week  \n",
              "0           0.0  -1.0   1.0            0.8  \n",
              "1           0.0  -1.0   1.0            0.0  \n",
              "2           0.0   0.0   0.0            0.0  \n",
              "3           0.0   0.0   0.0            0.0  \n",
              "4           0.0   0.0   0.0            7.2  \n",
              "\n",
              "[5 rows x 34 columns]"
            ]
          },
          "execution_count": 68,
          "metadata": {},
          "output_type": "execute_result"
        }
      ],
      "source": [
        "X_test.head()"
      ]
    },
    {
      "cell_type": "markdown",
      "metadata": {
        "id": "_GbZroZPC9Ws"
      },
      "source": [
        "### MODEL TRAINING USING ALL MODELS TOGETHER"
      ]
    },
    {
      "cell_type": "markdown",
      "metadata": {
        "id": "Imij0K04C9Ws"
      },
      "source": [
        "We now have X_train dataset ready to be fed into the classifier models. We will do it as follows."
      ]
    },
    {
      "cell_type": "code",
      "execution_count": null,
      "metadata": {
        "id": "3m3rB1zeC9Ws"
      },
      "outputs": [],
      "source": [
        "from sklearn.ensemble import RandomForestClassifier ,AdaBoostClassifier,BaggingClassifier,ExtraTreesClassifier,GradientBoostingClassifier\n",
        "from sklearn.model_selection import GridSearchCV, cross_val_score, StratifiedKFold, learning_curve ,KFold\n",
        "from sklearn.metrics import roc_curve,accuracy_score,f1_score,auc,confusion_matrix,roc_auc_score #,plot_confusion_matrix\n",
        "from xgboost.sklearn import XGBClassifier\n",
        "from sklearn.metrics import classification_report,confusion_matrix,accuracy_score\n",
        "from sklearn.tree import DecisionTreeClassifier\n",
        "from sklearn.model_selection import train_test_split, KFold, cross_val_score\n",
        "from sklearn.preprocessing import StandardScaler, LabelEncoder\n",
        "from sklearn.metrics import accuracy_score, f1_score, roc_auc_score, classification_report\n",
        "from sklearn.ensemble import RandomForestClassifier, AdaBoostClassifier, BaggingClassifier, ExtraTreesClassifier, GradientBoostingClassifier\n",
        "from xgboost import XGBClassifier\n",
        "from sklearn.linear_model import LogisticRegression\n",
        "from sklearn.tree import DecisionTreeClassifier\n",
        "from sklearn.svm import SVC\n",
        "from sklearn.neighbors import KNeighborsClassifier\n",
        "from sklearn.naive_bayes import GaussianNB"
      ]
    },
    {
      "cell_type": "code",
      "execution_count": null,
      "metadata": {
        "id": "KJlOfXN-C9Ws",
        "outputId": "c2c2d9f5-24b4-4074-d4fb-d23a9f8683d9"
      },
      "outputs": [
        {
          "name": "stdout",
          "output_type": "stream",
          "text": [
            "Logistic Regression (Training):\n",
            "  CrossVal_Score_Mean: 0.8087\n",
            "  CrossVal_Error: 0.0079\n",
            "\n",
            "Random Forest (Training):\n",
            "  CrossVal_Score_Mean: 0.7832\n",
            "  CrossVal_Error: 0.0034\n",
            "\n",
            "AdaBoost (Training):\n",
            "  CrossVal_Score_Mean: 0.8144\n",
            "  CrossVal_Error: 0.0068\n",
            "\n",
            "Bagging (Training):\n",
            "  CrossVal_Score_Mean: 0.7762\n",
            "  CrossVal_Error: 0.0036\n",
            "\n",
            "Extra Trees (Training):\n",
            "  CrossVal_Score_Mean: 0.7789\n",
            "  CrossVal_Error: 0.0025\n",
            "\n",
            "Gradient Boosting (Training):\n",
            "  CrossVal_Score_Mean: 0.8150\n",
            "  CrossVal_Error: 0.0050\n",
            "\n",
            "XGBoost (Training):\n",
            "  CrossVal_Score_Mean: 0.8130\n",
            "  CrossVal_Error: 0.0059\n",
            "\n",
            "Decision Tree (Training):\n",
            "  CrossVal_Score_Mean: 0.7613\n",
            "  CrossVal_Error: 0.0051\n",
            "\n",
            "SVM (Training):\n",
            "  CrossVal_Score_Mean: 0.8120\n",
            "  CrossVal_Error: 0.0044\n",
            "\n",
            "KNN (Training):\n",
            "  CrossVal_Score_Mean: 0.7916\n",
            "  CrossVal_Error: 0.0039\n",
            "\n",
            "Naive Bayes (Training):\n",
            "  CrossVal_Score_Mean: 0.4741\n",
            "  CrossVal_Error: 0.0131\n",
            "\n",
            "Logistic Regression (Test):\n",
            "  Accuracy: 0.8080\n",
            "  F1_Score: 0.5120\n",
            "  ROC_AUC_Score: 0.8282240567685076\n",
            "  Classification_Report:\n",
            "              precision    recall  f1-score   support\n",
            "\n",
            "           0       0.83      0.93      0.88      7407\n",
            "           1       0.66      0.42      0.51      2362\n",
            "\n",
            "    accuracy                           0.81      9769\n",
            "   macro avg       0.75      0.67      0.70      9769\n",
            "weighted avg       0.79      0.81      0.79      9769\n",
            "\n",
            "  Confusion_Matrix:\n",
            "[[6909  498]\n",
            " [1378  984]]\n",
            "\n",
            "Random Forest (Test):\n",
            "  Accuracy: 0.7818\n",
            "  F1_Score: 0.5060\n",
            "  ROC_AUC_Score: 0.7922604106900732\n",
            "  Classification_Report:\n",
            "              precision    recall  f1-score   support\n",
            "\n",
            "           0       0.84      0.88      0.86      7407\n",
            "           1       0.56      0.46      0.51      2362\n",
            "\n",
            "    accuracy                           0.78      9769\n",
            "   macro avg       0.70      0.67      0.68      9769\n",
            "weighted avg       0.77      0.78      0.77      9769\n",
            "\n",
            "  Confusion_Matrix:\n",
            "[[6545  862]\n",
            " [1270 1092]]\n",
            "\n",
            "AdaBoost (Test):\n",
            "  Accuracy: 0.8139\n",
            "  F1_Score: 0.5425\n",
            "  ROC_AUC_Score: 0.8452237893829292\n",
            "  Classification_Report:\n",
            "              precision    recall  f1-score   support\n",
            "\n",
            "           0       0.84      0.93      0.88      7407\n",
            "           1       0.67      0.46      0.54      2362\n",
            "\n",
            "    accuracy                           0.81      9769\n",
            "   macro avg       0.76      0.69      0.71      9769\n",
            "weighted avg       0.80      0.81      0.80      9769\n",
            "\n",
            "  Confusion_Matrix:\n",
            "[[6873  534]\n",
            " [1284 1078]]\n",
            "\n",
            "Bagging (Test):\n",
            "  Accuracy: 0.7767\n",
            "  F1_Score: 0.4881\n",
            "  ROC_AUC_Score: 0.7751443613480029\n",
            "  Classification_Report:\n",
            "              precision    recall  f1-score   support\n",
            "\n",
            "           0       0.83      0.88      0.86      7407\n",
            "           1       0.55      0.44      0.49      2362\n",
            "\n",
            "    accuracy                           0.78      9769\n",
            "   macro avg       0.69      0.66      0.67      9769\n",
            "weighted avg       0.76      0.78      0.77      9769\n",
            "\n",
            "  Confusion_Matrix:\n",
            "[[6548  859]\n",
            " [1322 1040]]\n",
            "\n",
            "Extra Trees (Test):\n",
            "  Accuracy: 0.7809\n",
            "  F1_Score: 0.4948\n",
            "  ROC_AUC_Score: 0.758685430069526\n",
            "  Classification_Report:\n",
            "              precision    recall  f1-score   support\n",
            "\n",
            "           0       0.83      0.89      0.86      7407\n",
            "           1       0.56      0.44      0.49      2362\n",
            "\n",
            "    accuracy                           0.78      9769\n",
            "   macro avg       0.70      0.67      0.68      9769\n",
            "weighted avg       0.77      0.78      0.77      9769\n",
            "\n",
            "  Confusion_Matrix:\n",
            "[[6581  826]\n",
            " [1314 1048]]\n",
            "\n",
            "Gradient Boosting (Test):\n",
            "  Accuracy: 0.8179\n",
            "  F1_Score: 0.5411\n",
            "  ROC_AUC_Score: 0.8467150727159596\n",
            "  Classification_Report:\n",
            "              precision    recall  f1-score   support\n",
            "\n",
            "           0       0.84      0.94      0.89      7407\n",
            "           1       0.69      0.44      0.54      2362\n",
            "\n",
            "    accuracy                           0.82      9769\n",
            "   macro avg       0.77      0.69      0.71      9769\n",
            "weighted avg       0.81      0.82      0.80      9769\n",
            "\n",
            "  Confusion_Matrix:\n",
            "[[6941  466]\n",
            " [1313 1049]]\n",
            "\n",
            "XGBoost (Test):\n",
            "  Accuracy: 0.8126\n",
            "  F1_Score: 0.5548\n",
            "  ROC_AUC_Score: 0.8445087415879\n",
            "  Classification_Report:\n",
            "              precision    recall  f1-score   support\n",
            "\n",
            "           0       0.85      0.92      0.88      7407\n",
            "           1       0.65      0.48      0.55      2362\n",
            "\n",
            "    accuracy                           0.81      9769\n",
            "   macro avg       0.75      0.70      0.72      9769\n",
            "weighted avg       0.80      0.81      0.80      9769\n",
            "\n",
            "  Confusion_Matrix:\n",
            "[[6797  610]\n",
            " [1221 1141]]\n",
            "\n",
            "Decision Tree (Test):\n",
            "  Accuracy: 0.7696\n",
            "  F1_Score: 0.4735\n",
            "  ROC_AUC_Score: 0.704134228017596\n",
            "  Classification_Report:\n",
            "              precision    recall  f1-score   support\n",
            "\n",
            "           0       0.83      0.88      0.85      7407\n",
            "           1       0.53      0.43      0.47      2362\n",
            "\n",
            "    accuracy                           0.77      9769\n",
            "   macro avg       0.68      0.65      0.66      9769\n",
            "weighted avg       0.76      0.77      0.76      9769\n",
            "\n",
            "  Confusion_Matrix:\n",
            "[[6506  901]\n",
            " [1350 1012]]\n",
            "\n",
            "SVM (Test):\n",
            "  Accuracy: 0.8128\n",
            "  F1_Score: 0.5034\n",
            "  ROC_AUC_Score: 0.8136199343207737\n",
            "  Classification_Report:\n",
            "              precision    recall  f1-score   support\n",
            "\n",
            "           0       0.83      0.95      0.88      7407\n",
            "           1       0.70      0.39      0.50      2362\n",
            "\n",
            "    accuracy                           0.81      9769\n",
            "   macro avg       0.77      0.67      0.69      9769\n",
            "weighted avg       0.80      0.81      0.79      9769\n",
            "\n",
            "  Confusion_Matrix:\n",
            "[[7013  394]\n",
            " [1435  927]]\n",
            "\n",
            "KNN (Test):\n",
            "  Accuracy: 0.7911\n",
            "  F1_Score: 0.5210\n",
            "  ROC_AUC_Score: 0.7822599728590491\n",
            "  Classification_Report:\n",
            "              precision    recall  f1-score   support\n",
            "\n",
            "           0       0.84      0.89      0.87      7407\n",
            "           1       0.58      0.47      0.52      2362\n",
            "\n",
            "    accuracy                           0.79      9769\n",
            "   macro avg       0.71      0.68      0.69      9769\n",
            "weighted avg       0.78      0.79      0.78      9769\n",
            "\n",
            "  Confusion_Matrix:\n",
            "[[6618  789]\n",
            " [1252 1110]]\n",
            "\n",
            "Naive Bayes (Test):\n",
            "  Accuracy: 0.4810\n",
            "  F1_Score: 0.4646\n",
            "  ROC_AUC_Score: 0.789572551172787\n",
            "  Classification_Report:\n",
            "              precision    recall  f1-score   support\n",
            "\n",
            "           0       0.94      0.34      0.50      7407\n",
            "           1       0.31      0.93      0.46      2362\n",
            "\n",
            "    accuracy                           0.48      9769\n",
            "   macro avg       0.62      0.63      0.48      9769\n",
            "weighted avg       0.79      0.48      0.49      9769\n",
            "\n",
            "  Confusion_Matrix:\n",
            "[[2499 4908]\n",
            " [ 162 2200]]\n",
            "\n"
          ]
        }
      ],
      "source": [
        "# List of classifiers\n",
        "classifiers = {\n",
        "    'Logistic Regression': LogisticRegression(),\n",
        "    'Random Forest': RandomForestClassifier(),\n",
        "    'AdaBoost': AdaBoostClassifier(),    ## BASIC BUT FAST BOOSTING TECHNIQUE\n",
        "    'Bagging': BaggingClassifier(),\n",
        "    'Extra Trees': ExtraTreesClassifier(),  ## TREE BASED CLASSIFIER\n",
        "    'Gradient Boosting': GradientBoostingClassifier(),\n",
        "    'XGBoost': XGBClassifier(use_label_encoder=False, eval_metric='logloss'),\n",
        "    'Decision Tree': DecisionTreeClassifier(),\n",
        "    'SVM': SVC(probability=True),    ## SUPPORT VECTOR MACHINES\n",
        "    'KNN': KNeighborsClassifier(),   ## K NEAREST NEIGHBOURS\n",
        "    'Naive Bayes': GaussianNB()     ## PROBABILITY BASED APPROACH\n",
        "}\n",
        "\n",
        "# Dictionaries to store results\n",
        "results_train = {}\n",
        "results_test = {}\n",
        "\n",
        "# K-Fold cross-validation\n",
        "kfold = KFold(n_splits=5, shuffle=True, random_state=42)\n",
        "\n",
        "for name, clf in classifiers.items():\n",
        "    # Cross-validation\n",
        "    cv_results = cross_val_score(clf, X_train, y_train, cv=kfold, scoring='accuracy')\n",
        "    results_train[name] = {\n",
        "        'CrossVal_Score_Mean': cv_results.mean(),\n",
        "        'CrossVal_Error': cv_results.std()\n",
        "    }\n",
        "\n",
        "    # Train the model\n",
        "    clf.fit(X_train, y_train)\n",
        "\n",
        "    # Make predictions on the test set\n",
        "    y_pred = clf.predict(X_test)\n",
        "    y_pred_proba = clf.predict_proba(X_test)[:, 1] if hasattr(clf, \"predict_proba\") else None\n",
        "\n",
        "    # Evaluate the predictions\n",
        "    accuracy = accuracy_score(y_test, y_pred)\n",
        "    f1 = f1_score(y_test, y_pred)\n",
        "    roc_auc = roc_auc_score(y_test, y_pred_proba) if y_pred_proba is not None else 'N/A'\n",
        "    clf_report = classification_report(y_test, y_pred)\n",
        "    cm = confusion_matrix(y_test, y_pred)\n",
        "\n",
        "    # Store the evaluation metrics\n",
        "    results_test[name] = {\n",
        "        'Accuracy': accuracy,\n",
        "        'F1_Score': f1,\n",
        "        'ROC_AUC_Score': roc_auc,\n",
        "        'Classification_Report': clf_report,\n",
        "        'Confusion_Matrix': cm\n",
        "    }\n",
        "\n",
        "# Print the cross-validation results\n",
        "for name, result in results_train.items():\n",
        "    print(f\"{name} (Training):\")\n",
        "    print(f\"  CrossVal_Score_Mean: {result['CrossVal_Score_Mean']:.4f}\")\n",
        "    print(f\"  CrossVal_Error: {result['CrossVal_Error']:.4f}\")\n",
        "    print()\n",
        "\n",
        "# Print the test results\n",
        "for name, result in results_test.items():\n",
        "    print(f\"{name} (Test):\")\n",
        "    print(f\"  Accuracy: {result['Accuracy']:.4f}\")\n",
        "    print(f\"  F1_Score: {result['F1_Score']:.4f}\")\n",
        "    print(f\"  ROC_AUC_Score: {result['ROC_AUC_Score']}\")\n",
        "    print(f\"  Classification_Report:\\n{result['Classification_Report']}\")\n",
        "    print(f\"  Confusion_Matrix:\\n{result['Confusion_Matrix']}\\n\")\n"
      ]
    },
    {
      "cell_type": "code",
      "execution_count": null,
      "metadata": {
        "id": "lXAcgkgIC9Wt",
        "outputId": "c9bb6077-e22c-4145-f9b0-ffa63936a6f5"
      },
      "outputs": [
        {
          "data": {
            "text/plain": [
              "{'Logistic Regression': LogisticRegression(),\n",
              " 'Random Forest': RandomForestClassifier(),\n",
              " 'AdaBoost': AdaBoostClassifier(),\n",
              " 'Bagging': BaggingClassifier(),\n",
              " 'Extra Trees': ExtraTreesClassifier(),\n",
              " 'Gradient Boosting': GradientBoostingClassifier(),\n",
              " 'XGBoost': XGBClassifier(base_score=None, booster=None, callbacks=None,\n",
              "               colsample_bylevel=None, colsample_bynode=None,\n",
              "               colsample_bytree=None, device=None, early_stopping_rounds=None,\n",
              "               enable_categorical=False, eval_metric='logloss',\n",
              "               feature_types=None, gamma=None, grow_policy=None,\n",
              "               importance_type=None, interaction_constraints=None,\n",
              "               learning_rate=None, max_bin=None, max_cat_threshold=None,\n",
              "               max_cat_to_onehot=None, max_delta_step=None, max_depth=None,\n",
              "               max_leaves=None, min_child_weight=None, missing=nan,\n",
              "               monotone_constraints=None, multi_strategy=None, n_estimators=None,\n",
              "               n_jobs=None, num_parallel_tree=None, random_state=None, ...),\n",
              " 'Decision Tree': DecisionTreeClassifier(),\n",
              " 'SVM': SVC(probability=True),\n",
              " 'KNN': KNeighborsClassifier(),\n",
              " 'Naive Bayes': GaussianNB()}"
            ]
          },
          "execution_count": 71,
          "metadata": {},
          "output_type": "execute_result"
        }
      ],
      "source": [
        "classifiers"
      ]
    },
    {
      "cell_type": "markdown",
      "metadata": {
        "id": "yOfPv6yyC9Wt"
      },
      "source": [
        "## HYPER PARAMETER TUNING"
      ]
    },
    {
      "cell_type": "code",
      "execution_count": null,
      "metadata": {
        "id": "ICowt6CsC9Wu",
        "outputId": "62ea2d74-906e-4eef-e509-1091d9717580"
      },
      "outputs": [
        {
          "name": "stdout",
          "output_type": "stream",
          "text": [
            "Fitting 5 folds for each of 648 candidates, totalling 3240 fits\n",
            "Best Parameters: {'bootstrap': True, 'max_depth': 20, 'max_features': 'sqrt', 'min_samples_leaf': 4, 'min_samples_split': 10, 'n_estimators': 200}\n"
          ]
        }
      ],
      "source": [
        "# Define the parameter grid for GridSearchCV\n",
        "param_grid = {\n",
        "    'n_estimators': [50, 100, 200],\n",
        "    'max_features': ['auto', 'sqrt', 'log2'],\n",
        "    'max_depth': [10, 20, 30, None],\n",
        "    'min_samples_split': [2, 5, 10],\n",
        "    'min_samples_leaf': [1, 2, 4],\n",
        "    'bootstrap': [True, False]\n",
        "}\n",
        "\n",
        "\n",
        "### 3*3*4*3*3*2*5 = 3240 fits\n",
        "\n",
        "# Initialize the Random Forest model\n",
        "rf = RandomForestClassifier(random_state=42)\n",
        "\n",
        "# Initialize GridSearchCV\n",
        "grid_search = GridSearchCV(estimator=rf, param_grid=param_grid,\n",
        "                           cv=5, n_jobs=-1, scoring='accuracy', verbose=2)\n",
        "\n",
        "# Fit GridSearchCV\n",
        "grid_search.fit(X_train, y_train)\n",
        "\n",
        "# Get the best parameters\n",
        "best_params = grid_search.best_params_\n",
        "print(f\"Best Parameters: {best_params}\")"
      ]
    },
    {
      "cell_type": "markdown",
      "metadata": {
        "id": "sR8nBv3wC9Wu"
      },
      "source": [
        "## FINALLY TRAINING THE MODEL WITH BEST HYPER PARAMETERS"
      ]
    },
    {
      "cell_type": "code",
      "execution_count": null,
      "metadata": {
        "id": "XRwPVPI0C9Wu",
        "outputId": "e54078f5-7557-4bf9-bb41-12c580813670"
      },
      "outputs": [
        {
          "name": "stdout",
          "output_type": "stream",
          "text": [
            "Training Metrics:\n",
            "  Accuracy: 0.8378\n",
            "  F1_Score: 0.5922\n",
            "  ROC_AUC_Score: 0.8908\n",
            "  Classification_Report:\n",
            "              precision    recall  f1-score   support\n",
            "\n",
            "           0       0.85      0.95      0.90     17313\n",
            "           1       0.75      0.49      0.59      5479\n",
            "\n",
            "    accuracy                           0.84     22792\n",
            "   macro avg       0.80      0.72      0.75     22792\n",
            "weighted avg       0.83      0.84      0.83     22792\n",
            "\n",
            "  Confusion_Matrix:\n",
            "[[16409   904]\n",
            " [ 2794  2685]]\n",
            "\n",
            "Test Metrics:\n",
            "  Accuracy: 0.8124\n",
            "  F1_Score: 0.5265\n",
            "  ROC_AUC_Score: 0.8443\n",
            "  Classification_Report:\n",
            "              precision    recall  f1-score   support\n",
            "\n",
            "           0       0.84      0.93      0.88      7407\n",
            "           1       0.68      0.43      0.53      2362\n",
            "\n",
            "    accuracy                           0.81      9769\n",
            "   macro avg       0.76      0.68      0.70      9769\n",
            "weighted avg       0.80      0.81      0.80      9769\n",
            "\n",
            "  Confusion_Matrix:\n",
            "[[6917  490]\n",
            " [1343 1019]]\n",
            "\n"
          ]
        }
      ],
      "source": [
        "# Train the Random Forest model with the best parameters\n",
        "best_rf = RandomForestClassifier(**best_params, random_state=42)\n",
        "best_rf.fit(X_train, y_train)\n",
        "\n",
        "# Make predictions on the training set\n",
        "y_train_pred = best_rf.predict(X_train)\n",
        "y_train_pred_proba = best_rf.predict_proba(X_train)[:, 1]\n",
        "\n",
        "# Make predictions on the test set\n",
        "y_test_pred = best_rf.predict(X_test)\n",
        "y_test_pred_proba = best_rf.predict_proba(X_test)[:, 1]\n",
        "\n",
        "# Evaluate the model on the training set\n",
        "train_accuracy = accuracy_score(y_train, y_train_pred)\n",
        "train_f1 = f1_score(y_train, y_train_pred)\n",
        "train_roc_auc = roc_auc_score(y_train, y_train_pred_proba)\n",
        "train_clf_report = classification_report(y_train, y_train_pred)\n",
        "train_cm = confusion_matrix(y_train, y_train_pred)\n",
        "\n",
        "# Evaluate the model on the test set\n",
        "test_accuracy = accuracy_score(y_test, y_test_pred)\n",
        "test_f1 = f1_score(y_test, y_test_pred)\n",
        "test_roc_auc = roc_auc_score(y_test, y_test_pred_proba)\n",
        "test_clf_report = classification_report(y_test, y_test_pred)\n",
        "test_cm = confusion_matrix(y_test, y_test_pred)\n",
        "\n",
        "# Print the evaluation metrics\n",
        "print(\"Training Metrics:\")\n",
        "print(f\"  Accuracy: {train_accuracy:.4f}\")\n",
        "print(f\"  F1_Score: {train_f1:.4f}\")\n",
        "print(f\"  ROC_AUC_Score: {train_roc_auc:.4f}\")\n",
        "print(f\"  Classification_Report:\\n{train_clf_report}\")\n",
        "print(f\"  Confusion_Matrix:\\n{train_cm}\\n\")\n",
        "\n",
        "print(\"Test Metrics:\")\n",
        "print(f\"  Accuracy: {test_accuracy:.4f}\")\n",
        "print(f\"  F1_Score: {test_f1:.4f}\")\n",
        "print(f\"  ROC_AUC_Score: {test_roc_auc:.4f}\")\n",
        "print(f\"  Classification_Report:\\n{test_clf_report}\")\n",
        "print(f\"  Confusion_Matrix:\\n{test_cm}\\n\")"
      ]
    },
    {
      "cell_type": "markdown",
      "metadata": {
        "id": "n6aBHMK6C9Wu"
      },
      "source": [
        "## FEATURE SELECTION - GETTING BEST MODEL FEATURES"
      ]
    },
    {
      "cell_type": "code",
      "execution_count": null,
      "metadata": {
        "id": "x1A2fMblC9Wu",
        "outputId": "98ed8306-ee09-4c97-b59a-d7683538619c"
      },
      "outputs": [
        {
          "name": "stdout",
          "output_type": "stream",
          "text": [
            "age               0.320021\n",
            "hours_per_week    0.157688\n",
            "occupation_2      0.067957\n",
            "sex_2             0.062676\n",
            "education_1       0.056264\n",
            "sex_1             0.052376\n",
            "education_4       0.044861\n",
            "education_11      0.032915\n",
            "occupation_5      0.026997\n",
            "occupation_4      0.026707\n",
            "education_2       0.024725\n",
            "education_10      0.020718\n",
            "education_6       0.011894\n",
            "occupation_6      0.009660\n",
            "occupation_3      0.008863\n",
            "occupation_9      0.008578\n",
            "occupation_11     0.007193\n",
            "education_9       0.006958\n",
            "education_3       0.006698\n",
            "occupation_10     0.006487\n",
            "occupation_1      0.005955\n",
            "occupation_7      0.005145\n",
            "education_13      0.004961\n",
            "occupation_8      0.004796\n",
            "education_8       0.004182\n",
            "occupation_12     0.004111\n",
            "education_5       0.003884\n",
            "education_7       0.003279\n",
            "education_12      0.001521\n",
            "education_16      0.000895\n",
            "education_14      0.000780\n",
            "occupation_14     0.000185\n",
            "education_15      0.000069\n",
            "occupation_13     0.000000\n",
            "dtype: float64\n"
          ]
        }
      ],
      "source": [
        "feature = pd.Series(best_rf.feature_importances_, index = X_train.columns).sort_values(ascending = False)\n",
        "print(feature)"
      ]
    },
    {
      "cell_type": "code",
      "execution_count": null,
      "metadata": {
        "id": "j-4EM6s6C9Wu"
      },
      "outputs": [],
      "source": []
    },
    {
      "cell_type": "markdown",
      "metadata": {
        "id": "1g67mHtDC9Wu"
      },
      "source": [
        "## 16. Confusion matrix <a class=\"anchor\" id=\"16\"></a>\n",
        "\n",
        "\n",
        "[Back to Table of Contents](#0.1)\n",
        "\n",
        "\n",
        "A confusion matrix is a tool for summarizing the performance of a classification algorithm. A confusion matrix will give us a clear picture of classification model performance and the types of errors produced by the model. It gives us a summary of correct and incorrect predictions broken down by each category. The summary is represented in a tabular form.\n",
        "\n",
        "\n",
        "Four types of outcomes are possible while evaluating a classification model performance. These four outcomes are described below:-\n",
        "\n",
        "\n",
        "**True Positives (TP)** – True Positives occur when we predict an observation belongs to a certain class and the observation actually belongs to that class.\n",
        "\n",
        "\n",
        "**True Negatives (TN)** – True Negatives occur when we predict an observation does not belong to a certain class and the observation actually does not belong to that class.\n",
        "\n",
        "\n",
        "**False Positives (FP)** – False Positives occur when we predict an observation belongs to a    certain class but the observation actually does not belong to that class. This type of error is called **Type I error.**\n",
        "\n",
        "\n",
        "\n",
        "**False Negatives (FN)** – False Negatives occur when we predict an observation does not belong to a certain class but the observation actually belongs to that class. This is a very serious error and it is called **Type II error.**\n",
        "\n",
        "\n",
        "\n",
        "These four outcomes are summarized in a confusion matrix given below.\n"
      ]
    },
    {
      "cell_type": "code",
      "execution_count": null,
      "metadata": {
        "id": "MdoXsUx7C9Wv",
        "outputId": "71a6028d-b856-45c2-a3ba-cd09184172e5"
      },
      "outputs": [
        {
          "name": "stdout",
          "output_type": "stream",
          "text": [
            "Confusion matrix\n",
            "\n",
            " [[6917  490]\n",
            " [1343 1019]]\n"
          ]
        }
      ],
      "source": [
        "# Print the Confusion Matrix and slice it into four pieces\n",
        "\n",
        "from sklearn.metrics import confusion_matrix\n",
        "\n",
        "cm = confusion_matrix(y_test, y_test_pred)\n",
        "\n",
        "print('Confusion matrix\\n\\n', cm)"
      ]
    },
    {
      "cell_type": "code",
      "execution_count": null,
      "metadata": {
        "id": "RMOnBqr3C9Wv",
        "outputId": "f5d93b94-89fe-41a6-f9e9-9c7ba16b68a0"
      },
      "outputs": [
        {
          "data": {
            "text/plain": [
              "<Axes: >"
            ]
          },
          "execution_count": 76,
          "metadata": {},
          "output_type": "execute_result"
        },
        {
          "data": {
            "image/png": "[encoded data removed]",
            "text/plain": [
              "<Figure size 640x480 with 2 Axes>"
            ]
          },
          "metadata": {},
          "output_type": "display_data"
        }
      ],
      "source": [
        "# visualize confusion matrix with seaborn heatmap\n",
        "\n",
        "cm_matrix = pd.DataFrame(data=cm, columns=['Actual Positive:1', 'Actual Negative:0'],\n",
        "                                 index=['Predict Positive:1', 'Predict Negative:0'])\n",
        "\n",
        "sns.heatmap(cm_matrix, annot=True, fmt='d', cmap='YlGnBu')"
      ]
    },
    {
      "cell_type": "markdown",
      "metadata": {
        "id": "yaAGHNlAC9Wv"
      },
      "source": [
        "## 17. Classification Report <a class=\"anchor\" id=\"17\"></a>\n",
        "\n",
        "\n",
        "[Back to Table of Contents](#0.1)\n",
        "\n",
        "\n",
        "**Classification report** is another way to evaluate the classification model performance. It displays the  **precision**, **recall**, **f1** and **support** scores for the model. I have described these terms in later.\n",
        "\n",
        "We can print a classification report as follows:-"
      ]
    },
    {
      "cell_type": "code",
      "execution_count": null,
      "metadata": {
        "id": "JD1PFkLTC9Wv",
        "outputId": "78624dd2-9476-4b26-abda-23fe48628530"
      },
      "outputs": [
        {
          "name": "stdout",
          "output_type": "stream",
          "text": [
            "              precision    recall  f1-score   support\n",
            "\n",
            "           0       0.84      0.93      0.88      7407\n",
            "           1       0.68      0.43      0.53      2362\n",
            "\n",
            "    accuracy                           0.81      9769\n",
            "   macro avg       0.76      0.68      0.70      9769\n",
            "weighted avg       0.80      0.81      0.80      9769\n",
            "\n"
          ]
        }
      ],
      "source": [
        "from sklearn.metrics import classification_report\n",
        "\n",
        "print(classification_report(y_test, y_test_pred))"
      ]
    },
    {
      "cell_type": "code",
      "execution_count": null,
      "metadata": {
        "id": "qwQQBJc8C9Wv"
      },
      "outputs": [],
      "source": []
    }
  ],
  "metadata": {
    "kernelspec": {
      "display_name": "Python 3 (ipykernel)",
      "language": "python",
      "name": "python3"
    },
    "language_info": {
      "codemirror_mode": {
        "name": "ipython",
        "version": 3
      },
      "file_extension": ".py",
      "mimetype": "text/x-python",
      "name": "python",
      "nbconvert_exporter": "python",
      "pygments_lexer": "ipython3",
      "version": "3.11.4"
    },
    "colab": {
      "provenance": [],
      "include_colab_link": true
    }
  },
  "nbformat": 4,
  "nbformat_minor": 0
}